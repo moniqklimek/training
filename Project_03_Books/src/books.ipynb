{
 "cells": [
  {
   "cell_type": "markdown",
   "metadata": {},
   "source": [
    "# Data scraping as a basis for Analysis"
   ]
  },
  {
   "cell_type": "raw",
   "metadata": {},
   "source": [
    "\"\"\"\n",
    "Part 1\n",
    "\n",
    "    load data,\n",
    "    make copies of the file for security,\n",
    "    see content\n",
    "    cleaning\n",
    "\"\"\""
   ]
  },
  {
   "cell_type": "markdown",
   "metadata": {},
   "source": [
    "----"
   ]
  },
  {
   "cell_type": "code",
   "execution_count": 104,
   "metadata": {},
   "outputs": [],
   "source": [
    "# import of modules"
   ]
  },
  {
   "cell_type": "code",
   "execution_count": 105,
   "metadata": {},
   "outputs": [],
   "source": [
    "import pandas as pd"
   ]
  },
  {
   "cell_type": "code",
   "execution_count": 106,
   "metadata": {},
   "outputs": [],
   "source": [
    "import seaborn as sns # graphical use"
   ]
  },
  {
   "cell_type": "code",
   "execution_count": 107,
   "metadata": {},
   "outputs": [],
   "source": [
    "import matplotlib.pyplot as plt # change size plots\n",
    "plt.rcParams['figure.figsize'] = [40, 20]"
   ]
  },
  {
   "cell_type": "code",
   "execution_count": 108,
   "metadata": {},
   "outputs": [],
   "source": [
    "plt.rc('legend',fontsize=20) # using a size in points to change size legend OR --> plt.rc('legend',fontsize='medium')"
   ]
  },
  {
   "cell_type": "markdown",
   "metadata": {},
   "source": [
    "#### read csv data from disk -- > file \"02.csv\""
   ]
  },
  {
   "cell_type": "code",
   "execution_count": 109,
   "metadata": {},
   "outputs": [],
   "source": [
    "raw_data_cs=pd.read_csv(\"../resources/02.csv\")"
   ]
  },
  {
   "cell_type": "markdown",
   "metadata": {},
   "source": [
    "#### show the content raw_data_cs"
   ]
  },
  {
   "cell_type": "code",
   "execution_count": 110,
   "metadata": {},
   "outputs": [
    {
     "data": {
      "text/html": [
       "<div>\n",
       "<style scoped>\n",
       "    .dataframe tbody tr th:only-of-type {\n",
       "        vertical-align: middle;\n",
       "    }\n",
       "\n",
       "    .dataframe tbody tr th {\n",
       "        vertical-align: top;\n",
       "    }\n",
       "\n",
       "    .dataframe thead th {\n",
       "        text-align: right;\n",
       "    }\n",
       "</style>\n",
       "<table border=\"1\" class=\"dataframe\">\n",
       "  <thead>\n",
       "    <tr style=\"text-align: right;\">\n",
       "      <th></th>\n",
       "      <th>Book_Available</th>\n",
       "      <th>Book_Category</th>\n",
       "      <th>Book_First_Link</th>\n",
       "      <th>Book_Price</th>\n",
       "      <th>Book_Stars</th>\n",
       "      <th>Book_Title</th>\n",
       "      <th>Book_total_category_amouth</th>\n",
       "    </tr>\n",
       "  </thead>\n",
       "  <tbody>\n",
       "    <tr>\n",
       "      <th>0</th>\n",
       "      <td>True</td>\n",
       "      <td>Travel</td>\n",
       "      <td>https://books.toscrape.com/catalogue/category/...</td>\n",
       "      <td>45.17</td>\n",
       "      <td>2</td>\n",
       "      <td>It's Only the Himalayas</td>\n",
       "      <td>11</td>\n",
       "    </tr>\n",
       "    <tr>\n",
       "      <th>1</th>\n",
       "      <td>True</td>\n",
       "      <td>Travel</td>\n",
       "      <td>https://books.toscrape.com/catalogue/category/...</td>\n",
       "      <td>49.43</td>\n",
       "      <td>4</td>\n",
       "      <td>Full Moon over Noah’s Ark: An Odyssey to Mount...</td>\n",
       "      <td>11</td>\n",
       "    </tr>\n",
       "    <tr>\n",
       "      <th>2</th>\n",
       "      <td>True</td>\n",
       "      <td>Travel</td>\n",
       "      <td>https://books.toscrape.com/catalogue/category/...</td>\n",
       "      <td>48.87</td>\n",
       "      <td>3</td>\n",
       "      <td>See America: A Celebration of Our National Par...</td>\n",
       "      <td>11</td>\n",
       "    </tr>\n",
       "    <tr>\n",
       "      <th>3</th>\n",
       "      <td>True</td>\n",
       "      <td>Travel</td>\n",
       "      <td>https://books.toscrape.com/catalogue/category/...</td>\n",
       "      <td>36.94</td>\n",
       "      <td>2</td>\n",
       "      <td>Vagabonding: An Uncommon Guide to the Art of L...</td>\n",
       "      <td>11</td>\n",
       "    </tr>\n",
       "  </tbody>\n",
       "</table>\n",
       "</div>"
      ],
      "text/plain": [
       "   Book_Available Book_Category  \\\n",
       "0            True        Travel   \n",
       "1            True        Travel   \n",
       "2            True        Travel   \n",
       "3            True        Travel   \n",
       "\n",
       "                                     Book_First_Link  Book_Price  Book_Stars  \\\n",
       "0  https://books.toscrape.com/catalogue/category/...       45.17           2   \n",
       "1  https://books.toscrape.com/catalogue/category/...       49.43           4   \n",
       "2  https://books.toscrape.com/catalogue/category/...       48.87           3   \n",
       "3  https://books.toscrape.com/catalogue/category/...       36.94           2   \n",
       "\n",
       "                                          Book_Title  \\\n",
       "0                            It's Only the Himalayas   \n",
       "1  Full Moon over Noah’s Ark: An Odyssey to Mount...   \n",
       "2  See America: A Celebration of Our National Par...   \n",
       "3  Vagabonding: An Uncommon Guide to the Art of L...   \n",
       "\n",
       "   Book_total_category_amouth  \n",
       "0                          11  \n",
       "1                          11  \n",
       "2                          11  \n",
       "3                          11  "
      ]
     },
     "execution_count": 110,
     "metadata": {},
     "output_type": "execute_result"
    }
   ],
   "source": [
    "raw_data_cs.head(4)"
   ]
  },
  {
   "cell_type": "markdown",
   "metadata": {},
   "source": [
    "#### create copy befor changing the existing date"
   ]
  },
  {
   "cell_type": "code",
   "execution_count": 111,
   "metadata": {},
   "outputs": [],
   "source": [
    "df=raw_data_cs.copy()"
   ]
  },
  {
   "cell_type": "code",
   "execution_count": 112,
   "metadata": {},
   "outputs": [
    {
     "data": {
      "text/html": [
       "<div>\n",
       "<style scoped>\n",
       "    .dataframe tbody tr th:only-of-type {\n",
       "        vertical-align: middle;\n",
       "    }\n",
       "\n",
       "    .dataframe tbody tr th {\n",
       "        vertical-align: top;\n",
       "    }\n",
       "\n",
       "    .dataframe thead th {\n",
       "        text-align: right;\n",
       "    }\n",
       "</style>\n",
       "<table border=\"1\" class=\"dataframe\">\n",
       "  <thead>\n",
       "    <tr style=\"text-align: right;\">\n",
       "      <th></th>\n",
       "      <th>Book_Available</th>\n",
       "      <th>Book_Category</th>\n",
       "      <th>Book_First_Link</th>\n",
       "      <th>Book_Price</th>\n",
       "      <th>Book_Stars</th>\n",
       "      <th>Book_Title</th>\n",
       "      <th>Book_total_category_amouth</th>\n",
       "    </tr>\n",
       "  </thead>\n",
       "  <tbody>\n",
       "    <tr>\n",
       "      <th>0</th>\n",
       "      <td>True</td>\n",
       "      <td>Travel</td>\n",
       "      <td>https://books.toscrape.com/catalogue/category/...</td>\n",
       "      <td>45.17</td>\n",
       "      <td>2</td>\n",
       "      <td>It's Only the Himalayas</td>\n",
       "      <td>11</td>\n",
       "    </tr>\n",
       "    <tr>\n",
       "      <th>1</th>\n",
       "      <td>True</td>\n",
       "      <td>Travel</td>\n",
       "      <td>https://books.toscrape.com/catalogue/category/...</td>\n",
       "      <td>49.43</td>\n",
       "      <td>4</td>\n",
       "      <td>Full Moon over Noah’s Ark: An Odyssey to Mount...</td>\n",
       "      <td>11</td>\n",
       "    </tr>\n",
       "    <tr>\n",
       "      <th>2</th>\n",
       "      <td>True</td>\n",
       "      <td>Travel</td>\n",
       "      <td>https://books.toscrape.com/catalogue/category/...</td>\n",
       "      <td>48.87</td>\n",
       "      <td>3</td>\n",
       "      <td>See America: A Celebration of Our National Par...</td>\n",
       "      <td>11</td>\n",
       "    </tr>\n",
       "    <tr>\n",
       "      <th>3</th>\n",
       "      <td>True</td>\n",
       "      <td>Travel</td>\n",
       "      <td>https://books.toscrape.com/catalogue/category/...</td>\n",
       "      <td>36.94</td>\n",
       "      <td>2</td>\n",
       "      <td>Vagabonding: An Uncommon Guide to the Art of L...</td>\n",
       "      <td>11</td>\n",
       "    </tr>\n",
       "  </tbody>\n",
       "</table>\n",
       "</div>"
      ],
      "text/plain": [
       "   Book_Available Book_Category  \\\n",
       "0            True        Travel   \n",
       "1            True        Travel   \n",
       "2            True        Travel   \n",
       "3            True        Travel   \n",
       "\n",
       "                                     Book_First_Link  Book_Price  Book_Stars  \\\n",
       "0  https://books.toscrape.com/catalogue/category/...       45.17           2   \n",
       "1  https://books.toscrape.com/catalogue/category/...       49.43           4   \n",
       "2  https://books.toscrape.com/catalogue/category/...       48.87           3   \n",
       "3  https://books.toscrape.com/catalogue/category/...       36.94           2   \n",
       "\n",
       "                                          Book_Title  \\\n",
       "0                            It's Only the Himalayas   \n",
       "1  Full Moon over Noah’s Ark: An Odyssey to Mount...   \n",
       "2  See America: A Celebration of Our National Par...   \n",
       "3  Vagabonding: An Uncommon Guide to the Art of L...   \n",
       "\n",
       "   Book_total_category_amouth  \n",
       "0                          11  \n",
       "1                          11  \n",
       "2                          11  \n",
       "3                          11  "
      ]
     },
     "execution_count": 112,
     "metadata": {},
     "output_type": "execute_result"
    }
   ],
   "source": [
    "df.head(4)"
   ]
  },
  {
   "cell_type": "markdown",
   "metadata": {},
   "source": [
    "#### show the contents of the whole file - display the maximum amount: columns and rows without limits"
   ]
  },
  {
   "cell_type": "code",
   "execution_count": 113,
   "metadata": {},
   "outputs": [],
   "source": [
    "pd.options.display.max_columns=None\n",
    "pd.options.display.max_rows=None"
   ]
  },
  {
   "cell_type": "markdown",
   "metadata": {},
   "source": [
    "#### show the whole file once more"
   ]
  },
  {
   "cell_type": "code",
   "execution_count": 114,
   "metadata": {},
   "outputs": [],
   "source": [
    "#display(df).head(4)  --> very big and not so eradable like in Jupyter "
   ]
  },
  {
   "cell_type": "markdown",
   "metadata": {},
   "source": [
    "#### show information about the database structure - including: data type, file size, existing columns"
   ]
  },
  {
   "cell_type": "code",
   "execution_count": 115,
   "metadata": {},
   "outputs": [
    {
     "name": "stdout",
     "output_type": "stream",
     "text": [
      "<class 'pandas.core.frame.DataFrame'>\n",
      "RangeIndex: 1000 entries, 0 to 999\n",
      "Data columns (total 7 columns):\n",
      " #   Column                      Non-Null Count  Dtype  \n",
      "---  ------                      --------------  -----  \n",
      " 0   Book_Available              1000 non-null   bool   \n",
      " 1   Book_Category               1000 non-null   object \n",
      " 2   Book_First_Link             1000 non-null   object \n",
      " 3   Book_Price                  1000 non-null   float64\n",
      " 4   Book_Stars                  1000 non-null   int64  \n",
      " 5   Book_Title                  1000 non-null   object \n",
      " 6   Book_total_category_amouth  1000 non-null   int64  \n",
      "dtypes: bool(1), float64(1), int64(2), object(3)\n",
      "memory usage: 48.0+ KB\n"
     ]
    }
   ],
   "source": [
    "df.info()"
   ]
  },
  {
   "cell_type": "markdown",
   "metadata": {},
   "source": [
    "----"
   ]
  },
  {
   "cell_type": "markdown",
   "metadata": {},
   "source": [
    "##### data cleaning - we remove the columns \"Book_Available\", \"Book_First_Link\" that are unnecessary for analysis --> axis = 1 - removing columns"
   ]
  },
  {
   "cell_type": "code",
   "execution_count": 116,
   "metadata": {},
   "outputs": [],
   "source": [
    "df=df.drop(['Book_Available'], axis=1)"
   ]
  },
  {
   "cell_type": "code",
   "execution_count": 117,
   "metadata": {},
   "outputs": [],
   "source": [
    "df=df.drop(['Book_First_Link'], axis=1)"
   ]
  },
  {
   "cell_type": "code",
   "execution_count": 118,
   "metadata": {},
   "outputs": [
    {
     "name": "stdout",
     "output_type": "stream",
     "text": [
      "<class 'pandas.core.frame.DataFrame'>\n",
      "RangeIndex: 1000 entries, 0 to 999\n",
      "Data columns (total 5 columns):\n",
      " #   Column                      Non-Null Count  Dtype  \n",
      "---  ------                      --------------  -----  \n",
      " 0   Book_Category               1000 non-null   object \n",
      " 1   Book_Price                  1000 non-null   float64\n",
      " 2   Book_Stars                  1000 non-null   int64  \n",
      " 3   Book_Title                  1000 non-null   object \n",
      " 4   Book_total_category_amouth  1000 non-null   int64  \n",
      "dtypes: float64(1), int64(2), object(2)\n",
      "memory usage: 39.2+ KB\n"
     ]
    }
   ],
   "source": [
    "df.info()"
   ]
  },
  {
   "cell_type": "code",
   "execution_count": 119,
   "metadata": {},
   "outputs": [],
   "source": [
    "#raw_data_cs # check one more time - if raw data without any changes"
   ]
  },
  {
   "cell_type": "code",
   "execution_count": 120,
   "metadata": {},
   "outputs": [],
   "source": [
    "#df # new working file for use"
   ]
  },
  {
   "cell_type": "raw",
   "metadata": {},
   "source": [
    "\"\"\"\n",
    "Part 2\n",
    "\n",
    "    how can syntax SQL translate practically into Panda language\n",
    "        - example of SQL question\n",
    "        - an example of a solution in Panda\n",
    "\"\"\""
   ]
  },
  {
   "cell_type": "markdown",
   "metadata": {},
   "source": [
    "----"
   ]
  },
  {
   "cell_type": "markdown",
   "metadata": {},
   "source": [
    "### subject 1:  min and max value for the df and kol 'Book_Price'"
   ]
  },
  {
   "cell_type": "markdown",
   "metadata": {},
   "source": [
    "SELECT MIN(Book_Price) \n",
    "FROM df;\n",
    "\n",
    "SELECT MAX(Book_Price) \n",
    "FROM df;"
   ]
  },
  {
   "cell_type": "code",
   "execution_count": 121,
   "metadata": {},
   "outputs": [
    {
     "data": {
      "text/plain": [
       "10.0"
      ]
     },
     "execution_count": 121,
     "metadata": {},
     "output_type": "execute_result"
    }
   ],
   "source": [
    "df['Book_Price'].min()"
   ]
  },
  {
   "cell_type": "code",
   "execution_count": 122,
   "metadata": {},
   "outputs": [
    {
     "data": {
      "text/plain": [
       "59.99"
      ]
     },
     "execution_count": 122,
     "metadata": {},
     "output_type": "execute_result"
    }
   ],
   "source": [
    "df['Book_Price'].max()"
   ]
  },
  {
   "cell_type": "markdown",
   "metadata": {},
   "source": [
    "### subject 2:  min and max value for the df and kol 'Book_Price'"
   ]
  },
  {
   "cell_type": "code",
   "execution_count": 123,
   "metadata": {},
   "outputs": [],
   "source": [
    "#SELECT \n",
    "#MIN(Book_Price) as min_price\n",
    "#FROM df\n",
    "#ORDER BY min_price\n",
    "#LIMIT 5;"
   ]
  },
  {
   "cell_type": "code",
   "execution_count": 124,
   "metadata": {},
   "outputs": [
    {
     "data": {
      "text/plain": [
       "[10.0, 10.01, 10.02, 10.16, 10.23]"
      ]
     },
     "execution_count": 124,
     "metadata": {},
     "output_type": "execute_result"
    }
   ],
   "source": [
    "min_price=sorted(df['Book_Price'].unique())\n",
    "min_price[:5]"
   ]
  },
  {
   "cell_type": "markdown",
   "metadata": {},
   "source": [
    "#### subject 3:  min and max value for the df and kol 'Book_Stars'"
   ]
  },
  {
   "cell_type": "markdown",
   "metadata": {},
   "source": [
    "SELECT MIN(Book_Stars) FROM df;\n",
    "\n",
    "SELECT MAX(Book_Stars) FROM df;"
   ]
  },
  {
   "cell_type": "code",
   "execution_count": 125,
   "metadata": {
    "scrolled": true
   },
   "outputs": [
    {
     "data": {
      "text/plain": [
       "5"
      ]
     },
     "execution_count": 125,
     "metadata": {},
     "output_type": "execute_result"
    }
   ],
   "source": [
    "df['Book_Stars'].max()"
   ]
  },
  {
   "cell_type": "code",
   "execution_count": 126,
   "metadata": {},
   "outputs": [
    {
     "data": {
      "text/plain": [
       "1"
      ]
     },
     "execution_count": 126,
     "metadata": {},
     "output_type": "execute_result"
    }
   ],
   "source": [
    "df['Book_Stars'].min()"
   ]
  },
  {
   "cell_type": "markdown",
   "metadata": {},
   "source": [
    "#### subject 4:  dictinct value for Book_Stars"
   ]
  },
  {
   "cell_type": "markdown",
   "metadata": {},
   "source": [
    "SELECT DISTINCT Book_Stars\n",
    "FROM df;"
   ]
  },
  {
   "cell_type": "code",
   "execution_count": 127,
   "metadata": {},
   "outputs": [
    {
     "data": {
      "text/plain": [
       "array([2, 4, 3, 1, 5])"
      ]
     },
     "execution_count": 127,
     "metadata": {},
     "output_type": "execute_result"
    }
   ],
   "source": [
    "pd.unique(df['Book_Stars'])"
   ]
  },
  {
   "cell_type": "markdown",
   "metadata": {},
   "source": [
    "Method nr 2"
   ]
  },
  {
   "cell_type": "code",
   "execution_count": 128,
   "metadata": {
    "scrolled": true
   },
   "outputs": [
    {
     "data": {
      "text/plain": [
       "array([2, 4, 3, 1, 5])"
      ]
     },
     "execution_count": 128,
     "metadata": {},
     "output_type": "execute_result"
    }
   ],
   "source": [
    "df['Book_Stars'].unique()"
   ]
  },
  {
   "cell_type": "code",
   "execution_count": 129,
   "metadata": {},
   "outputs": [
    {
     "data": {
      "text/plain": [
       "5"
      ]
     },
     "execution_count": 129,
     "metadata": {},
     "output_type": "execute_result"
    }
   ],
   "source": [
    "len(df['Book_Stars'].unique())"
   ]
  },
  {
   "cell_type": "markdown",
   "metadata": {},
   "source": [
    "SELECT DISTINCT Book_total_category_amouth FROM df;"
   ]
  },
  {
   "cell_type": "code",
   "execution_count": 130,
   "metadata": {},
   "outputs": [
    {
     "data": {
      "text/plain": [
       "array([ 11,  32,  26,  75,  19,  35,  17,  65,  29,   7, 110,  13, 152,\n",
       "        16,   5,  67,  48,   6,  54,  14,   1,   8,   9,  10,  18,  30,\n",
       "        12,   3,   2,   4])"
      ]
     },
     "execution_count": 130,
     "metadata": {},
     "output_type": "execute_result"
    }
   ],
   "source": [
    "pd.unique(df['Book_total_category_amouth'])"
   ]
  },
  {
   "cell_type": "code",
   "execution_count": 131,
   "metadata": {},
   "outputs": [
    {
     "data": {
      "text/plain": [
       "30"
      ]
     },
     "execution_count": 131,
     "metadata": {},
     "output_type": "execute_result"
    }
   ],
   "source": [
    "len(df['Book_total_category_amouth'].unique())"
   ]
  },
  {
   "cell_type": "code",
   "execution_count": 132,
   "metadata": {
    "scrolled": true
   },
   "outputs": [
    {
     "data": {
      "text/plain": [
       "[152, 110, 75, 67, 65, 54, 48, 35, 32, 30, 29, 26, 19, 18, 17]"
      ]
     },
     "execution_count": 132,
     "metadata": {},
     "output_type": "execute_result"
    }
   ],
   "source": [
    "amoyth_books_in_every_category=sorted(df['Book_total_category_amouth'].unique())\n",
    "# show me last 15 \n",
    "reverse_tab=amoyth_books_in_every_category[::-1] # show me last 15 - sorted from Max to min  \n",
    "reverse_tab[:15]"
   ]
  },
  {
   "cell_type": "markdown",
   "metadata": {},
   "source": [
    "----"
   ]
  },
  {
   "cell_type": "code",
   "execution_count": 133,
   "metadata": {
    "scrolled": true
   },
   "outputs": [
    {
     "data": {
      "text/html": [
       "<div>\n",
       "<style scoped>\n",
       "    .dataframe tbody tr th:only-of-type {\n",
       "        vertical-align: middle;\n",
       "    }\n",
       "\n",
       "    .dataframe tbody tr th {\n",
       "        vertical-align: top;\n",
       "    }\n",
       "\n",
       "    .dataframe thead th {\n",
       "        text-align: right;\n",
       "    }\n",
       "</style>\n",
       "<table border=\"1\" class=\"dataframe\">\n",
       "  <thead>\n",
       "    <tr style=\"text-align: right;\">\n",
       "      <th></th>\n",
       "      <th>Book_Category</th>\n",
       "      <th>Book_Price</th>\n",
       "      <th>Book_Stars</th>\n",
       "      <th>Book_Title</th>\n",
       "      <th>Book_total_category_amouth</th>\n",
       "    </tr>\n",
       "  </thead>\n",
       "  <tbody>\n",
       "    <tr>\n",
       "      <th>0</th>\n",
       "      <td>Travel</td>\n",
       "      <td>45.17</td>\n",
       "      <td>2</td>\n",
       "      <td>It's Only the Himalayas</td>\n",
       "      <td>11</td>\n",
       "    </tr>\n",
       "    <tr>\n",
       "      <th>1</th>\n",
       "      <td>Travel</td>\n",
       "      <td>49.43</td>\n",
       "      <td>4</td>\n",
       "      <td>Full Moon over Noah’s Ark: An Odyssey to Mount...</td>\n",
       "      <td>11</td>\n",
       "    </tr>\n",
       "  </tbody>\n",
       "</table>\n",
       "</div>"
      ],
      "text/plain": [
       "  Book_Category  Book_Price  Book_Stars  \\\n",
       "0        Travel       45.17           2   \n",
       "1        Travel       49.43           4   \n",
       "\n",
       "                                          Book_Title  \\\n",
       "0                            It's Only the Himalayas   \n",
       "1  Full Moon over Noah’s Ark: An Odyssey to Mount...   \n",
       "\n",
       "   Book_total_category_amouth  \n",
       "0                          11  \n",
       "1                          11  "
      ]
     },
     "execution_count": 133,
     "metadata": {},
     "output_type": "execute_result"
    }
   ],
   "source": [
    "df.head(2) # show me tabel again"
   ]
  },
  {
   "cell_type": "markdown",
   "metadata": {},
   "source": [
    "#### subject 5:  show the best five Title Books -- > I’m interested in the Book_Title of the books - with stars 5. Show only first 5 title"
   ]
  },
  {
   "cell_type": "markdown",
   "metadata": {},
   "source": [
    "SELECT Book_Title\n",
    "FROM df\n",
    "WHERE Book_Stars=5\n",
    "LIMIT 5;"
   ]
  },
  {
   "cell_type": "code",
   "execution_count": 134,
   "metadata": {
    "scrolled": false
   },
   "outputs": [
    {
     "data": {
      "text/plain": [
       "10                   1,000 Places to See Before You Die\n",
       "19               A Time of Torment (Charlie Parker #14)\n",
       "28    What Happened on Beale Street (Secrets of the ...\n",
       "29    The Bachelor Girl's Guide to Murder (Herringfo...\n",
       "33                    The Silkworm (Cormoran Strike #2)\n",
       "Name: Book_Title, dtype: object"
      ]
     },
     "execution_count": 134,
     "metadata": {},
     "output_type": "execute_result"
    }
   ],
   "source": [
    "df_title_stars5 = df.loc[df[\"Book_Stars\"] == 5, \"Book_Title\" ] \n",
    "df_title_stars5.head(5)"
   ]
  },
  {
   "cell_type": "markdown",
   "metadata": {},
   "source": [
    "#### subject 6:  show the best five or four stars Title Books"
   ]
  },
  {
   "cell_type": "markdown",
   "metadata": {},
   "source": [
    "SELECT Book_Title\n",
    "FROM df\n",
    "WHERE Book_Stars=5 or Book_Stars=4 \n",
    "LIMIT 3;"
   ]
  },
  {
   "cell_type": "code",
   "execution_count": 135,
   "metadata": {
    "scrolled": true
   },
   "outputs": [
    {
     "data": {
      "text/html": [
       "<div>\n",
       "<style scoped>\n",
       "    .dataframe tbody tr th:only-of-type {\n",
       "        vertical-align: middle;\n",
       "    }\n",
       "\n",
       "    .dataframe tbody tr th {\n",
       "        vertical-align: top;\n",
       "    }\n",
       "\n",
       "    .dataframe thead th {\n",
       "        text-align: right;\n",
       "    }\n",
       "</style>\n",
       "<table border=\"1\" class=\"dataframe\">\n",
       "  <thead>\n",
       "    <tr style=\"text-align: right;\">\n",
       "      <th></th>\n",
       "      <th>Book_Category</th>\n",
       "      <th>Book_Price</th>\n",
       "      <th>Book_Stars</th>\n",
       "      <th>Book_Title</th>\n",
       "      <th>Book_total_category_amouth</th>\n",
       "    </tr>\n",
       "  </thead>\n",
       "  <tbody>\n",
       "    <tr>\n",
       "      <th>1</th>\n",
       "      <td>Travel</td>\n",
       "      <td>49.43</td>\n",
       "      <td>4</td>\n",
       "      <td>Full Moon over Noah’s Ark: An Odyssey to Mount...</td>\n",
       "      <td>11</td>\n",
       "    </tr>\n",
       "    <tr>\n",
       "      <th>7</th>\n",
       "      <td>Travel</td>\n",
       "      <td>56.88</td>\n",
       "      <td>4</td>\n",
       "      <td>A Year in Provence (Provence #1)</td>\n",
       "      <td>11</td>\n",
       "    </tr>\n",
       "    <tr>\n",
       "      <th>10</th>\n",
       "      <td>Travel</td>\n",
       "      <td>26.08</td>\n",
       "      <td>5</td>\n",
       "      <td>1,000 Places to See Before You Die</td>\n",
       "      <td>11</td>\n",
       "    </tr>\n",
       "    <tr>\n",
       "      <th>11</th>\n",
       "      <td>Mystery</td>\n",
       "      <td>47.82</td>\n",
       "      <td>4</td>\n",
       "      <td>Sharp Objects</td>\n",
       "      <td>32</td>\n",
       "    </tr>\n",
       "    <tr>\n",
       "      <th>13</th>\n",
       "      <td>Mystery</td>\n",
       "      <td>56.50</td>\n",
       "      <td>4</td>\n",
       "      <td>The Past Never Ends</td>\n",
       "      <td>32</td>\n",
       "    </tr>\n",
       "  </tbody>\n",
       "</table>\n",
       "</div>"
      ],
      "text/plain": [
       "   Book_Category  Book_Price  Book_Stars  \\\n",
       "1         Travel       49.43           4   \n",
       "7         Travel       56.88           4   \n",
       "10        Travel       26.08           5   \n",
       "11       Mystery       47.82           4   \n",
       "13       Mystery       56.50           4   \n",
       "\n",
       "                                           Book_Title  \\\n",
       "1   Full Moon over Noah’s Ark: An Odyssey to Mount...   \n",
       "7                    A Year in Provence (Provence #1)   \n",
       "10                 1,000 Places to See Before You Die   \n",
       "11                                      Sharp Objects   \n",
       "13                                The Past Never Ends   \n",
       "\n",
       "    Book_total_category_amouth  \n",
       "1                           11  \n",
       "7                           11  \n",
       "10                          11  \n",
       "11                          32  \n",
       "13                          32  "
      ]
     },
     "execution_count": 135,
     "metadata": {},
     "output_type": "execute_result"
    }
   ],
   "source": [
    "df_title_stars4_5_category_Art = df.loc[df[\"Book_Stars\"].isin([4,5])]\n",
    "df_title_stars4_5_category_Art.head()"
   ]
  },
  {
   "cell_type": "markdown",
   "metadata": {},
   "source": [
    "#### subject 7:  show the best five  stars Title Books in Category Travel"
   ]
  },
  {
   "cell_type": "code",
   "execution_count": 136,
   "metadata": {},
   "outputs": [],
   "source": [
    "# SELECT Book_Category, Book_Price, Book_Stars, Book_Title, Book_total_category_amouth\n",
    "# FROM df\n",
    "# WHERE Book_Stars=5 and Book_Category=\"Travel\" "
   ]
  },
  {
   "cell_type": "code",
   "execution_count": 137,
   "metadata": {},
   "outputs": [
    {
     "data": {
      "text/html": [
       "<div>\n",
       "<style scoped>\n",
       "    .dataframe tbody tr th:only-of-type {\n",
       "        vertical-align: middle;\n",
       "    }\n",
       "\n",
       "    .dataframe tbody tr th {\n",
       "        vertical-align: top;\n",
       "    }\n",
       "\n",
       "    .dataframe thead th {\n",
       "        text-align: right;\n",
       "    }\n",
       "</style>\n",
       "<table border=\"1\" class=\"dataframe\">\n",
       "  <thead>\n",
       "    <tr style=\"text-align: right;\">\n",
       "      <th></th>\n",
       "      <th>Book_Category</th>\n",
       "      <th>Book_Price</th>\n",
       "      <th>Book_Stars</th>\n",
       "      <th>Book_Title</th>\n",
       "      <th>Book_total_category_amouth</th>\n",
       "    </tr>\n",
       "  </thead>\n",
       "  <tbody>\n",
       "    <tr>\n",
       "      <th>10</th>\n",
       "      <td>Travel</td>\n",
       "      <td>26.08</td>\n",
       "      <td>5</td>\n",
       "      <td>1,000 Places to See Before You Die</td>\n",
       "      <td>11</td>\n",
       "    </tr>\n",
       "  </tbody>\n",
       "</table>\n",
       "</div>"
      ],
      "text/plain": [
       "   Book_Category  Book_Price  Book_Stars                          Book_Title  \\\n",
       "10        Travel       26.08           5  1,000 Places to See Before You Die   \n",
       "\n",
       "    Book_total_category_amouth  \n",
       "10                          11  "
      ]
     },
     "execution_count": 137,
     "metadata": {},
     "output_type": "execute_result"
    }
   ],
   "source": [
    "star_5_cat_Travel = df[(df[\"Book_Stars\"] == 5) & (df[\"Book_Category\"] == \"Travel\")]\n",
    "star_5_cat_Travel"
   ]
  },
  {
   "cell_type": "markdown",
   "metadata": {},
   "source": [
    "#### subject 8:  show the best five  stars Title Books in Category Travel or belong to category Crime (stars is not important)"
   ]
  },
  {
   "cell_type": "code",
   "execution_count": 138,
   "metadata": {},
   "outputs": [],
   "source": [
    "\n",
    "# SELECT Book_Category, Book_Price, Book_Stars, Book_Title, Book_total_category_amouth\n",
    "# FROM df\n",
    "# WHERE Book_Stars=5 and Book_Category=\"Travel\" or and Book_Category=\"Crime\"\n"
   ]
  },
  {
   "cell_type": "code",
   "execution_count": 139,
   "metadata": {},
   "outputs": [
    {
     "data": {
      "text/html": [
       "<div>\n",
       "<style scoped>\n",
       "    .dataframe tbody tr th:only-of-type {\n",
       "        vertical-align: middle;\n",
       "    }\n",
       "\n",
       "    .dataframe tbody tr th {\n",
       "        vertical-align: top;\n",
       "    }\n",
       "\n",
       "    .dataframe thead th {\n",
       "        text-align: right;\n",
       "    }\n",
       "</style>\n",
       "<table border=\"1\" class=\"dataframe\">\n",
       "  <thead>\n",
       "    <tr style=\"text-align: right;\">\n",
       "      <th></th>\n",
       "      <th>Book_Category</th>\n",
       "      <th>Book_Price</th>\n",
       "      <th>Book_Stars</th>\n",
       "      <th>Book_Title</th>\n",
       "      <th>Book_total_category_amouth</th>\n",
       "    </tr>\n",
       "  </thead>\n",
       "  <tbody>\n",
       "    <tr>\n",
       "      <th>10</th>\n",
       "      <td>Travel</td>\n",
       "      <td>26.08</td>\n",
       "      <td>5</td>\n",
       "      <td>1,000 Places to See Before You Die</td>\n",
       "      <td>11</td>\n",
       "    </tr>\n",
       "    <tr>\n",
       "      <th>999</th>\n",
       "      <td>Crime</td>\n",
       "      <td>10.97</td>\n",
       "      <td>1</td>\n",
       "      <td>The Long Shadow of Small Ghosts: Murder and Me...</td>\n",
       "      <td>1</td>\n",
       "    </tr>\n",
       "  </tbody>\n",
       "</table>\n",
       "</div>"
      ],
      "text/plain": [
       "    Book_Category  Book_Price  Book_Stars  \\\n",
       "10         Travel       26.08           5   \n",
       "999         Crime       10.97           1   \n",
       "\n",
       "                                            Book_Title  \\\n",
       "10                  1,000 Places to See Before You Die   \n",
       "999  The Long Shadow of Small Ghosts: Murder and Me...   \n",
       "\n",
       "     Book_total_category_amouth  \n",
       "10                           11  \n",
       "999                           1  "
      ]
     },
     "execution_count": 139,
     "metadata": {},
     "output_type": "execute_result"
    }
   ],
   "source": [
    "star_5_cat_Travel_or_cat_Crime = df[(df[\"Book_Stars\"] == 5) & (df[\"Book_Category\"] == \"Travel\")| (df[\"Book_Category\"] == \"Crime\")]\n",
    "star_5_cat_Travel_or_cat_Crime"
   ]
  },
  {
   "cell_type": "markdown",
   "metadata": {},
   "source": [
    "#### subject 9:  show the worst (1*) books and their price <11.00"
   ]
  },
  {
   "cell_type": "code",
   "execution_count": 140,
   "metadata": {},
   "outputs": [],
   "source": [
    "# SELECT * FROM df WHERE Book_Stars=1 and Book_Price < 11 order by Book_Price;"
   ]
  },
  {
   "cell_type": "code",
   "execution_count": 141,
   "metadata": {},
   "outputs": [
    {
     "data": {
      "text/html": [
       "<div>\n",
       "<style scoped>\n",
       "    .dataframe tbody tr th:only-of-type {\n",
       "        vertical-align: middle;\n",
       "    }\n",
       "\n",
       "    .dataframe tbody tr th {\n",
       "        vertical-align: top;\n",
       "    }\n",
       "\n",
       "    .dataframe thead th {\n",
       "        text-align: right;\n",
       "    }\n",
       "</style>\n",
       "<table border=\"1\" class=\"dataframe\">\n",
       "  <thead>\n",
       "    <tr style=\"text-align: right;\">\n",
       "      <th></th>\n",
       "      <th>Book_Category</th>\n",
       "      <th>Book_Price</th>\n",
       "      <th>Book_Stars</th>\n",
       "      <th>Book_Title</th>\n",
       "      <th>Book_total_category_amouth</th>\n",
       "    </tr>\n",
       "  </thead>\n",
       "  <tbody>\n",
       "    <tr>\n",
       "      <th>840</th>\n",
       "      <td>Psychology</td>\n",
       "      <td>10.40</td>\n",
       "      <td>1</td>\n",
       "      <td>The Lucifer Effect: Understanding How Good Peo...</td>\n",
       "      <td>7</td>\n",
       "    </tr>\n",
       "    <tr>\n",
       "      <th>315</th>\n",
       "      <td>Childrens</td>\n",
       "      <td>10.62</td>\n",
       "      <td>1</td>\n",
       "      <td>Counting Thyme</td>\n",
       "      <td>29</td>\n",
       "    </tr>\n",
       "    <tr>\n",
       "      <th>605</th>\n",
       "      <td>Science Fiction</td>\n",
       "      <td>10.65</td>\n",
       "      <td>1</td>\n",
       "      <td>The Project</td>\n",
       "      <td>16</td>\n",
       "    </tr>\n",
       "    <tr>\n",
       "      <th>18</th>\n",
       "      <td>Mystery</td>\n",
       "      <td>10.69</td>\n",
       "      <td>1</td>\n",
       "      <td>Tastes Like Fear (DI Marnie Rome #3)</td>\n",
       "      <td>32</td>\n",
       "    </tr>\n",
       "    <tr>\n",
       "      <th>474</th>\n",
       "      <td>Default</td>\n",
       "      <td>10.76</td>\n",
       "      <td>1</td>\n",
       "      <td>Miss Peregrine’s Home for Peculiar Children (M...</td>\n",
       "      <td>152</td>\n",
       "    </tr>\n",
       "    <tr>\n",
       "      <th>610</th>\n",
       "      <td>Science Fiction</td>\n",
       "      <td>10.92</td>\n",
       "      <td>1</td>\n",
       "      <td>The Restaurant at the End of the Universe (Hit...</td>\n",
       "      <td>16</td>\n",
       "    </tr>\n",
       "    <tr>\n",
       "      <th>999</th>\n",
       "      <td>Crime</td>\n",
       "      <td>10.97</td>\n",
       "      <td>1</td>\n",
       "      <td>The Long Shadow of Small Ghosts: Murder and Me...</td>\n",
       "      <td>1</td>\n",
       "    </tr>\n",
       "  </tbody>\n",
       "</table>\n",
       "</div>"
      ],
      "text/plain": [
       "       Book_Category  Book_Price  Book_Stars  \\\n",
       "840       Psychology       10.40           1   \n",
       "315        Childrens       10.62           1   \n",
       "605  Science Fiction       10.65           1   \n",
       "18           Mystery       10.69           1   \n",
       "474          Default       10.76           1   \n",
       "610  Science Fiction       10.92           1   \n",
       "999            Crime       10.97           1   \n",
       "\n",
       "                                            Book_Title  \\\n",
       "840  The Lucifer Effect: Understanding How Good Peo...   \n",
       "315                                     Counting Thyme   \n",
       "605                                        The Project   \n",
       "18                Tastes Like Fear (DI Marnie Rome #3)   \n",
       "474  Miss Peregrine’s Home for Peculiar Children (M...   \n",
       "610  The Restaurant at the End of the Universe (Hit...   \n",
       "999  The Long Shadow of Small Ghosts: Murder and Me...   \n",
       "\n",
       "     Book_total_category_amouth  \n",
       "840                           7  \n",
       "315                          29  \n",
       "605                          16  \n",
       "18                           32  \n",
       "474                         152  \n",
       "610                          16  \n",
       "999                           1  "
      ]
     },
     "execution_count": 141,
     "metadata": {},
     "output_type": "execute_result"
    }
   ],
   "source": [
    "a=df[(df[\"Book_Stars\"] ==1) & (df[\"Book_Price\"] < 11.00)]\n",
    "a.sort_values(\"Book_Price\")"
   ]
  },
  {
   "cell_type": "code",
   "execution_count": 142,
   "metadata": {},
   "outputs": [],
   "source": [
    "#SELECT Book_Stars, count(*)\n",
    "#FROM df\n",
    "#GROUP BY Book_Stars;"
   ]
  },
  {
   "cell_type": "code",
   "execution_count": 143,
   "metadata": {},
   "outputs": [
    {
     "data": {
      "text/plain": [
       "Book_Stars\n",
       "1    226\n",
       "2    196\n",
       "3    203\n",
       "4    179\n",
       "5    196\n",
       "dtype: int64"
      ]
     },
     "execution_count": 143,
     "metadata": {},
     "output_type": "execute_result"
    }
   ],
   "source": [
    "df.groupby(\"Book_Stars\").size()"
   ]
  },
  {
   "cell_type": "code",
   "execution_count": 144,
   "metadata": {},
   "outputs": [
    {
     "data": {
      "text/plain": [
       "1000"
      ]
     },
     "execution_count": 144,
     "metadata": {},
     "output_type": "execute_result"
    }
   ],
   "source": [
    "226+196+203+179+196"
   ]
  },
  {
   "cell_type": "markdown",
   "metadata": {},
   "source": [
    "----"
   ]
  },
  {
   "cell_type": "code",
   "execution_count": 146,
   "metadata": {
    "scrolled": true
   },
   "outputs": [
    {
     "data": {
      "text/html": [
       "<div>\n",
       "<style scoped>\n",
       "    .dataframe tbody tr th:only-of-type {\n",
       "        vertical-align: middle;\n",
       "    }\n",
       "\n",
       "    .dataframe tbody tr th {\n",
       "        vertical-align: top;\n",
       "    }\n",
       "\n",
       "    .dataframe thead th {\n",
       "        text-align: right;\n",
       "    }\n",
       "</style>\n",
       "<table border=\"1\" class=\"dataframe\">\n",
       "  <thead>\n",
       "    <tr style=\"text-align: right;\">\n",
       "      <th></th>\n",
       "      <th>Book_Category</th>\n",
       "      <th>Book_Price</th>\n",
       "      <th>Book_Stars</th>\n",
       "      <th>Book_Title</th>\n",
       "      <th>Book_total_category_amouth</th>\n",
       "    </tr>\n",
       "  </thead>\n",
       "  <tbody>\n",
       "    <tr>\n",
       "      <th>0</th>\n",
       "      <td>Travel</td>\n",
       "      <td>45.17</td>\n",
       "      <td>2</td>\n",
       "      <td>It's Only the Himalayas</td>\n",
       "      <td>11</td>\n",
       "    </tr>\n",
       "    <tr>\n",
       "      <th>1</th>\n",
       "      <td>Travel</td>\n",
       "      <td>49.43</td>\n",
       "      <td>4</td>\n",
       "      <td>Full Moon over Noah’s Ark: An Odyssey to Mount...</td>\n",
       "      <td>11</td>\n",
       "    </tr>\n",
       "    <tr>\n",
       "      <th>2</th>\n",
       "      <td>Travel</td>\n",
       "      <td>48.87</td>\n",
       "      <td>3</td>\n",
       "      <td>See America: A Celebration of Our National Par...</td>\n",
       "      <td>11</td>\n",
       "    </tr>\n",
       "    <tr>\n",
       "      <th>3</th>\n",
       "      <td>Travel</td>\n",
       "      <td>36.94</td>\n",
       "      <td>2</td>\n",
       "      <td>Vagabonding: An Uncommon Guide to the Art of L...</td>\n",
       "      <td>11</td>\n",
       "    </tr>\n",
       "    <tr>\n",
       "      <th>4</th>\n",
       "      <td>Travel</td>\n",
       "      <td>37.33</td>\n",
       "      <td>3</td>\n",
       "      <td>Under the Tuscan Sun</td>\n",
       "      <td>11</td>\n",
       "    </tr>\n",
       "    <tr>\n",
       "      <th>5</th>\n",
       "      <td>Travel</td>\n",
       "      <td>44.34</td>\n",
       "      <td>2</td>\n",
       "      <td>A Summer In Europe</td>\n",
       "      <td>11</td>\n",
       "    </tr>\n",
       "    <tr>\n",
       "      <th>6</th>\n",
       "      <td>Travel</td>\n",
       "      <td>30.54</td>\n",
       "      <td>1</td>\n",
       "      <td>The Great Railway Bazaar</td>\n",
       "      <td>11</td>\n",
       "    </tr>\n",
       "    <tr>\n",
       "      <th>7</th>\n",
       "      <td>Travel</td>\n",
       "      <td>56.88</td>\n",
       "      <td>4</td>\n",
       "      <td>A Year in Provence (Provence #1)</td>\n",
       "      <td>11</td>\n",
       "    </tr>\n",
       "    <tr>\n",
       "      <th>8</th>\n",
       "      <td>Travel</td>\n",
       "      <td>23.21</td>\n",
       "      <td>1</td>\n",
       "      <td>The Road to Little Dribbling: Adventures of an...</td>\n",
       "      <td>11</td>\n",
       "    </tr>\n",
       "    <tr>\n",
       "      <th>9</th>\n",
       "      <td>Travel</td>\n",
       "      <td>38.95</td>\n",
       "      <td>3</td>\n",
       "      <td>Neither Here nor There: Travels in Europe</td>\n",
       "      <td>11</td>\n",
       "    </tr>\n",
       "    <tr>\n",
       "      <th>10</th>\n",
       "      <td>Travel</td>\n",
       "      <td>26.08</td>\n",
       "      <td>5</td>\n",
       "      <td>1,000 Places to See Before You Die</td>\n",
       "      <td>11</td>\n",
       "    </tr>\n",
       "    <tr>\n",
       "      <th>11</th>\n",
       "      <td>Mystery</td>\n",
       "      <td>47.82</td>\n",
       "      <td>4</td>\n",
       "      <td>Sharp Objects</td>\n",
       "      <td>32</td>\n",
       "    </tr>\n",
       "  </tbody>\n",
       "</table>\n",
       "</div>"
      ],
      "text/plain": [
       "   Book_Category  Book_Price  Book_Stars  \\\n",
       "0         Travel       45.17           2   \n",
       "1         Travel       49.43           4   \n",
       "2         Travel       48.87           3   \n",
       "3         Travel       36.94           2   \n",
       "4         Travel       37.33           3   \n",
       "5         Travel       44.34           2   \n",
       "6         Travel       30.54           1   \n",
       "7         Travel       56.88           4   \n",
       "8         Travel       23.21           1   \n",
       "9         Travel       38.95           3   \n",
       "10        Travel       26.08           5   \n",
       "11       Mystery       47.82           4   \n",
       "\n",
       "                                           Book_Title  \\\n",
       "0                             It's Only the Himalayas   \n",
       "1   Full Moon over Noah’s Ark: An Odyssey to Mount...   \n",
       "2   See America: A Celebration of Our National Par...   \n",
       "3   Vagabonding: An Uncommon Guide to the Art of L...   \n",
       "4                                Under the Tuscan Sun   \n",
       "5                                  A Summer In Europe   \n",
       "6                            The Great Railway Bazaar   \n",
       "7                    A Year in Provence (Provence #1)   \n",
       "8   The Road to Little Dribbling: Adventures of an...   \n",
       "9           Neither Here nor There: Travels in Europe   \n",
       "10                 1,000 Places to See Before You Die   \n",
       "11                                      Sharp Objects   \n",
       "\n",
       "    Book_total_category_amouth  \n",
       "0                           11  \n",
       "1                           11  \n",
       "2                           11  \n",
       "3                           11  \n",
       "4                           11  \n",
       "5                           11  \n",
       "6                           11  \n",
       "7                           11  \n",
       "8                           11  \n",
       "9                           11  \n",
       "10                          11  \n",
       "11                          32  "
      ]
     },
     "execution_count": 146,
     "metadata": {},
     "output_type": "execute_result"
    }
   ],
   "source": [
    "df.head(12) # show me tabel again"
   ]
  },
  {
   "cell_type": "markdown",
   "metadata": {},
   "source": [
    "#### topic 10: I have to choose a book for the client, he likes travel and erotic, he wants to buy the 5 most expensive and best rated books from these categories. if there are not so many who meet this condition - look for Art"
   ]
  },
  {
   "cell_type": "markdown",
   "metadata": {},
   "source": [
    "#SELECT Book_Title\n",
    "#FROM df\n",
    "#WHERE Book_Category in (\"Travel\",\"Erotica\") and Book_Stars=5 \n",
    "#Order by Book_Price\n",
    "#LIMIT 5;"
   ]
  },
  {
   "cell_type": "code",
   "execution_count": 147,
   "metadata": {
    "scrolled": true
   },
   "outputs": [
    {
     "data": {
      "text/html": [
       "<div>\n",
       "<style scoped>\n",
       "    .dataframe tbody tr th:only-of-type {\n",
       "        vertical-align: middle;\n",
       "    }\n",
       "\n",
       "    .dataframe tbody tr th {\n",
       "        vertical-align: top;\n",
       "    }\n",
       "\n",
       "    .dataframe thead th {\n",
       "        text-align: right;\n",
       "    }\n",
       "</style>\n",
       "<table border=\"1\" class=\"dataframe\">\n",
       "  <thead>\n",
       "    <tr style=\"text-align: right;\">\n",
       "      <th></th>\n",
       "      <th>Book_Category</th>\n",
       "      <th>Book_Price</th>\n",
       "      <th>Book_Stars</th>\n",
       "      <th>Book_Title</th>\n",
       "      <th>Book_total_category_amouth</th>\n",
       "    </tr>\n",
       "  </thead>\n",
       "  <tbody>\n",
       "    <tr>\n",
       "      <th>10</th>\n",
       "      <td>Travel</td>\n",
       "      <td>26.08</td>\n",
       "      <td>5</td>\n",
       "      <td>1,000 Places to See Before You Die</td>\n",
       "      <td>11</td>\n",
       "    </tr>\n",
       "    <tr>\n",
       "      <th>998</th>\n",
       "      <td>Erotica</td>\n",
       "      <td>19.19</td>\n",
       "      <td>5</td>\n",
       "      <td>Dark Notes</td>\n",
       "      <td>1</td>\n",
       "    </tr>\n",
       "  </tbody>\n",
       "</table>\n",
       "</div>"
      ],
      "text/plain": [
       "    Book_Category  Book_Price  Book_Stars                          Book_Title  \\\n",
       "10         Travel       26.08           5  1,000 Places to See Before You Die   \n",
       "998       Erotica       19.19           5                          Dark Notes   \n",
       "\n",
       "     Book_total_category_amouth  \n",
       "10                           11  \n",
       "998                           1  "
      ]
     },
     "execution_count": 147,
     "metadata": {},
     "output_type": "execute_result"
    }
   ],
   "source": [
    "df_title_stars5_Travel_or_Erotic_5expensive = df.loc[(df[\"Book_Stars\"] == 5)&(df[\"Book_Category\"].isin([\"Travel\",\"Erotica\"])) ] # | (df[\"Book_Category\"] == \"Art\")] \n",
    "df_title_stars5_Travel_or_Erotic_5expensive.head(5)"
   ]
  },
  {
   "cell_type": "markdown",
   "metadata": {},
   "source": [
    "CONCLUSION: the condition is not fulfilled, there are only 2 most desirable books, so I add a supplementary condition -\n",
    "if there are not so many who meet this condition - look for Art - 5 * and highest Price"
   ]
  },
  {
   "cell_type": "code",
   "execution_count": 148,
   "metadata": {
    "scrolled": true
   },
   "outputs": [
    {
     "data": {
      "text/html": [
       "<div>\n",
       "<style scoped>\n",
       "    .dataframe tbody tr th:only-of-type {\n",
       "        vertical-align: middle;\n",
       "    }\n",
       "\n",
       "    .dataframe tbody tr th {\n",
       "        vertical-align: top;\n",
       "    }\n",
       "\n",
       "    .dataframe thead th {\n",
       "        text-align: right;\n",
       "    }\n",
       "</style>\n",
       "<table border=\"1\" class=\"dataframe\">\n",
       "  <thead>\n",
       "    <tr style=\"text-align: right;\">\n",
       "      <th></th>\n",
       "      <th>Book_Category</th>\n",
       "      <th>Book_Price</th>\n",
       "      <th>Book_Stars</th>\n",
       "      <th>Book_Title</th>\n",
       "      <th>Book_total_category_amouth</th>\n",
       "    </tr>\n",
       "  </thead>\n",
       "  <tbody>\n",
       "    <tr>\n",
       "      <th>998</th>\n",
       "      <td>Erotica</td>\n",
       "      <td>19.19</td>\n",
       "      <td>5</td>\n",
       "      <td>Dark Notes</td>\n",
       "      <td>1</td>\n",
       "    </tr>\n",
       "    <tr>\n",
       "      <th>10</th>\n",
       "      <td>Travel</td>\n",
       "      <td>26.08</td>\n",
       "      <td>5</td>\n",
       "      <td>1,000 Places to See Before You Die</td>\n",
       "      <td>11</td>\n",
       "    </tr>\n",
       "    <tr>\n",
       "      <th>839</th>\n",
       "      <td>Art</td>\n",
       "      <td>39.51</td>\n",
       "      <td>5</td>\n",
       "      <td>Ways of Seeing</td>\n",
       "      <td>8</td>\n",
       "    </tr>\n",
       "  </tbody>\n",
       "</table>\n",
       "</div>"
      ],
      "text/plain": [
       "    Book_Category  Book_Price  Book_Stars                          Book_Title  \\\n",
       "998       Erotica       19.19           5                          Dark Notes   \n",
       "10         Travel       26.08           5  1,000 Places to See Before You Die   \n",
       "839           Art       39.51           5                      Ways of Seeing   \n",
       "\n",
       "     Book_total_category_amouth  \n",
       "998                           1  \n",
       "10                           11  \n",
       "839                           8  "
      ]
     },
     "execution_count": 148,
     "metadata": {},
     "output_type": "execute_result"
    }
   ],
   "source": [
    "df_title_stars5_Travel_or_Erotic_5expensive = df.loc[(df[\"Book_Stars\"] == 5)&(df[\"Book_Category\"].isin([\"Travel\",\"Erotica\"]))   | ((df[\"Book_Category\"] == \"Art\") &(df[\"Book_Stars\"] == 5))] \n",
    "df_title_stars5_Travel_or_Erotic_5expensive.sort_values(\"Book_Price\")\n"
   ]
  },
  {
   "cell_type": "markdown",
   "metadata": {},
   "source": [
    "the condition is not fulfilled,we have only 3 books for this Client"
   ]
  },
  {
   "cell_type": "markdown",
   "metadata": {},
   "source": [
    "----"
   ]
  },
  {
   "cell_type": "markdown",
   "metadata": {},
   "source": [
    "#### topic 11: client wants book, but he isnt sure about title. he only know that begin  \"Dark...\" ,  - help him"
   ]
  },
  {
   "cell_type": "markdown",
   "metadata": {},
   "source": [
    "#SELECT *\n",
    "#FROM df\n",
    "#WHERE Book_Title LIKE \"Dark%\""
   ]
  },
  {
   "cell_type": "code",
   "execution_count": 156,
   "metadata": {
    "scrolled": true
   },
   "outputs": [
    {
     "data": {
      "text/html": [
       "<div>\n",
       "<style scoped>\n",
       "    .dataframe tbody tr th:only-of-type {\n",
       "        vertical-align: middle;\n",
       "    }\n",
       "\n",
       "    .dataframe tbody tr th {\n",
       "        vertical-align: top;\n",
       "    }\n",
       "\n",
       "    .dataframe thead th {\n",
       "        text-align: right;\n",
       "    }\n",
       "</style>\n",
       "<table border=\"1\" class=\"dataframe\">\n",
       "  <thead>\n",
       "    <tr style=\"text-align: right;\">\n",
       "      <th></th>\n",
       "      <th>Book_Category</th>\n",
       "      <th>Book_Price</th>\n",
       "      <th>Book_Stars</th>\n",
       "      <th>Book_Title</th>\n",
       "      <th>Book_total_category_amouth</th>\n",
       "    </tr>\n",
       "  </thead>\n",
       "  <tbody>\n",
       "    <tr>\n",
       "      <th>192</th>\n",
       "      <td>Romance</td>\n",
       "      <td>12.87</td>\n",
       "      <td>1</td>\n",
       "      <td>Dark Lover (Black Dagger Brotherhood #1)</td>\n",
       "      <td>35</td>\n",
       "    </tr>\n",
       "    <tr>\n",
       "      <th>590</th>\n",
       "      <td>Default</td>\n",
       "      <td>23.90</td>\n",
       "      <td>5</td>\n",
       "      <td>Dark Places</td>\n",
       "      <td>152</td>\n",
       "    </tr>\n",
       "    <tr>\n",
       "      <th>727</th>\n",
       "      <td>Fantasy</td>\n",
       "      <td>56.02</td>\n",
       "      <td>1</td>\n",
       "      <td>Darkfever (Fever #1)</td>\n",
       "      <td>48</td>\n",
       "    </tr>\n",
       "    <tr>\n",
       "      <th>998</th>\n",
       "      <td>Erotica</td>\n",
       "      <td>19.19</td>\n",
       "      <td>5</td>\n",
       "      <td>Dark Notes</td>\n",
       "      <td>1</td>\n",
       "    </tr>\n",
       "  </tbody>\n",
       "</table>\n",
       "</div>"
      ],
      "text/plain": [
       "    Book_Category  Book_Price  Book_Stars  \\\n",
       "192       Romance       12.87           1   \n",
       "590       Default       23.90           5   \n",
       "727       Fantasy       56.02           1   \n",
       "998       Erotica       19.19           5   \n",
       "\n",
       "                                   Book_Title  Book_total_category_amouth  \n",
       "192  Dark Lover (Black Dagger Brotherhood #1)                          35  \n",
       "590                               Dark Places                         152  \n",
       "727                      Darkfever (Fever #1)                          48  \n",
       "998                                Dark Notes                           1  "
      ]
     },
     "execution_count": 156,
     "metadata": {},
     "output_type": "execute_result"
    }
   ],
   "source": [
    "df_title_FaceGray = df[df['Book_Title'].str.startswith('Dark')]\n",
    "df_title_FaceGray"
   ]
  },
  {
   "cell_type": "markdown",
   "metadata": {},
   "source": [
    "conclusion: you have books in stock titled: \"Dark Lover (Black Dagger Brotherhood #1)\", \"Dark Places\", \"Darkfever (Fever #1\",\"Dark Notes\" "
   ]
  },
  {
   "cell_type": "markdown",
   "metadata": {},
   "source": [
    "----"
   ]
  },
  {
   "cell_type": "raw",
   "metadata": {},
   "source": [
    "\"\"\"\n",
    "Part 3\n",
    "     visualisation data\n",
    "\"\"\""
   ]
  },
  {
   "cell_type": "code",
   "execution_count": 157,
   "metadata": {},
   "outputs": [],
   "source": [
    "# available columns"
   ]
  },
  {
   "cell_type": "markdown",
   "metadata": {},
   "source": [
    "https://stackoverflow.com/questions/13148429/how-to-change-the-order-of-dataframe-columns"
   ]
  },
  {
   "cell_type": "code",
   "execution_count": 158,
   "metadata": {},
   "outputs": [],
   "source": [
    "cols_name = list(df.columns.values)"
   ]
  },
  {
   "cell_type": "code",
   "execution_count": 159,
   "metadata": {},
   "outputs": [
    {
     "data": {
      "text/plain": [
       "['Book_Category',\n",
       " 'Book_Price',\n",
       " 'Book_Stars',\n",
       " 'Book_Title',\n",
       " 'Book_total_category_amouth']"
      ]
     },
     "execution_count": 159,
     "metadata": {},
     "output_type": "execute_result"
    }
   ],
   "source": [
    "cols_name"
   ]
  },
  {
   "cell_type": "code",
   "execution_count": 160,
   "metadata": {},
   "outputs": [
    {
     "data": {
      "text/plain": [
       "'Book_Category'"
      ]
     },
     "execution_count": 160,
     "metadata": {},
     "output_type": "execute_result"
    }
   ],
   "source": [
    "cols_name[0]"
   ]
  },
  {
   "cell_type": "code",
   "execution_count": 161,
   "metadata": {},
   "outputs": [],
   "source": [
    "# change place columns "
   ]
  },
  {
   "cell_type": "code",
   "execution_count": 162,
   "metadata": {},
   "outputs": [],
   "source": [
    "df = df[[cols_name[3],cols_name[2],cols_name[1],cols_name[0],cols_name[4]]]"
   ]
  },
  {
   "cell_type": "code",
   "execution_count": 163,
   "metadata": {},
   "outputs": [
    {
     "data": {
      "text/html": [
       "<div>\n",
       "<style scoped>\n",
       "    .dataframe tbody tr th:only-of-type {\n",
       "        vertical-align: middle;\n",
       "    }\n",
       "\n",
       "    .dataframe tbody tr th {\n",
       "        vertical-align: top;\n",
       "    }\n",
       "\n",
       "    .dataframe thead th {\n",
       "        text-align: right;\n",
       "    }\n",
       "</style>\n",
       "<table border=\"1\" class=\"dataframe\">\n",
       "  <thead>\n",
       "    <tr style=\"text-align: right;\">\n",
       "      <th></th>\n",
       "      <th>Book_Title</th>\n",
       "      <th>Book_Stars</th>\n",
       "      <th>Book_Price</th>\n",
       "      <th>Book_Category</th>\n",
       "      <th>Book_total_category_amouth</th>\n",
       "    </tr>\n",
       "  </thead>\n",
       "  <tbody>\n",
       "    <tr>\n",
       "      <th>0</th>\n",
       "      <td>It's Only the Himalayas</td>\n",
       "      <td>2</td>\n",
       "      <td>45.17</td>\n",
       "      <td>Travel</td>\n",
       "      <td>11</td>\n",
       "    </tr>\n",
       "    <tr>\n",
       "      <th>1</th>\n",
       "      <td>Full Moon over Noah’s Ark: An Odyssey to Mount...</td>\n",
       "      <td>4</td>\n",
       "      <td>49.43</td>\n",
       "      <td>Travel</td>\n",
       "      <td>11</td>\n",
       "    </tr>\n",
       "    <tr>\n",
       "      <th>2</th>\n",
       "      <td>See America: A Celebration of Our National Par...</td>\n",
       "      <td>3</td>\n",
       "      <td>48.87</td>\n",
       "      <td>Travel</td>\n",
       "      <td>11</td>\n",
       "    </tr>\n",
       "    <tr>\n",
       "      <th>3</th>\n",
       "      <td>Vagabonding: An Uncommon Guide to the Art of L...</td>\n",
       "      <td>2</td>\n",
       "      <td>36.94</td>\n",
       "      <td>Travel</td>\n",
       "      <td>11</td>\n",
       "    </tr>\n",
       "    <tr>\n",
       "      <th>4</th>\n",
       "      <td>Under the Tuscan Sun</td>\n",
       "      <td>3</td>\n",
       "      <td>37.33</td>\n",
       "      <td>Travel</td>\n",
       "      <td>11</td>\n",
       "    </tr>\n",
       "  </tbody>\n",
       "</table>\n",
       "</div>"
      ],
      "text/plain": [
       "                                          Book_Title  Book_Stars  Book_Price  \\\n",
       "0                            It's Only the Himalayas           2       45.17   \n",
       "1  Full Moon over Noah’s Ark: An Odyssey to Mount...           4       49.43   \n",
       "2  See America: A Celebration of Our National Par...           3       48.87   \n",
       "3  Vagabonding: An Uncommon Guide to the Art of L...           2       36.94   \n",
       "4                               Under the Tuscan Sun           3       37.33   \n",
       "\n",
       "  Book_Category  Book_total_category_amouth  \n",
       "0        Travel                          11  \n",
       "1        Travel                          11  \n",
       "2        Travel                          11  \n",
       "3        Travel                          11  \n",
       "4        Travel                          11  "
      ]
     },
     "execution_count": 163,
     "metadata": {},
     "output_type": "execute_result"
    }
   ],
   "source": [
    "df.head(5)"
   ]
  },
  {
   "cell_type": "markdown",
   "metadata": {},
   "source": [
    "----"
   ]
  },
  {
   "cell_type": "code",
   "execution_count": 164,
   "metadata": {},
   "outputs": [],
   "source": [
    "# find the average price of 1 book in each topic category\n",
    "# enter how many books in each category"
   ]
  },
  {
   "cell_type": "markdown",
   "metadata": {},
   "source": [
    "SELECT Book_Category, avg(Book_Price),count(*)\n",
    "FROM df\n",
    "GROUP BY Book_Category;"
   ]
  },
  {
   "cell_type": "code",
   "execution_count": 165,
   "metadata": {},
   "outputs": [],
   "source": [
    "import numpy as np"
   ]
  },
  {
   "cell_type": "code",
   "execution_count": 166,
   "metadata": {
    "scrolled": true
   },
   "outputs": [
    {
     "data": {
      "text/html": [
       "<div>\n",
       "<style scoped>\n",
       "    .dataframe tbody tr th:only-of-type {\n",
       "        vertical-align: middle;\n",
       "    }\n",
       "\n",
       "    .dataframe tbody tr th {\n",
       "        vertical-align: top;\n",
       "    }\n",
       "\n",
       "    .dataframe thead th {\n",
       "        text-align: right;\n",
       "    }\n",
       "</style>\n",
       "<table border=\"1\" class=\"dataframe\">\n",
       "  <thead>\n",
       "    <tr style=\"text-align: right;\">\n",
       "      <th></th>\n",
       "      <th>Book_Price</th>\n",
       "      <th>Book_Category</th>\n",
       "    </tr>\n",
       "    <tr>\n",
       "      <th>Book_Category</th>\n",
       "      <th></th>\n",
       "      <th></th>\n",
       "    </tr>\n",
       "  </thead>\n",
       "  <tbody>\n",
       "    <tr>\n",
       "      <th>Academic</th>\n",
       "      <td>13.120000</td>\n",
       "      <td>1</td>\n",
       "    </tr>\n",
       "    <tr>\n",
       "      <th>Add a comment</th>\n",
       "      <td>35.796418</td>\n",
       "      <td>67</td>\n",
       "    </tr>\n",
       "    <tr>\n",
       "      <th>Adult Fiction</th>\n",
       "      <td>15.360000</td>\n",
       "      <td>1</td>\n",
       "    </tr>\n",
       "    <tr>\n",
       "      <th>Art</th>\n",
       "      <td>38.520000</td>\n",
       "      <td>8</td>\n",
       "    </tr>\n",
       "    <tr>\n",
       "      <th>Autobiography</th>\n",
       "      <td>37.053333</td>\n",
       "      <td>9</td>\n",
       "    </tr>\n",
       "  </tbody>\n",
       "</table>\n",
       "</div>"
      ],
      "text/plain": [
       "               Book_Price  Book_Category\n",
       "Book_Category                           \n",
       "Academic        13.120000              1\n",
       "Add a comment   35.796418             67\n",
       "Adult Fiction   15.360000              1\n",
       "Art             38.520000              8\n",
       "Autobiography   37.053333              9"
      ]
     },
     "execution_count": 166,
     "metadata": {},
     "output_type": "execute_result"
    }
   ],
   "source": [
    "df.groupby(\"Book_Category\").agg({\"Book_Price\": np.mean, \"Book_Category\": np.size})[:5] #first 5 "
   ]
  },
  {
   "cell_type": "code",
   "execution_count": 167,
   "metadata": {},
   "outputs": [],
   "source": [
    "# change columns names"
   ]
  },
  {
   "cell_type": "code",
   "execution_count": 168,
   "metadata": {},
   "outputs": [],
   "source": [
    "df_grupyby_Book_Category_mean_price_and_count_amouth=df.groupby(\"Book_Category\").agg({\"Book_Price\": np.mean, \"Book_Category\": np.size})\n",
    "\n",
    "df2_Category_MeanPrice_Amouth = df_grupyby_Book_Category_mean_price_and_count_amouth.rename(columns = \n",
    "                                                                                            {'Book_Price': 'Mean_Books_Price', \n",
    "                                                                                             'Book_Category': 'Book_amouth'},\n",
    "                                                                                            inplace = False)"
   ]
  },
  {
   "cell_type": "code",
   "execution_count": 170,
   "metadata": {},
   "outputs": [
    {
     "data": {
      "text/html": [
       "<div>\n",
       "<style scoped>\n",
       "    .dataframe tbody tr th:only-of-type {\n",
       "        vertical-align: middle;\n",
       "    }\n",
       "\n",
       "    .dataframe tbody tr th {\n",
       "        vertical-align: top;\n",
       "    }\n",
       "\n",
       "    .dataframe thead th {\n",
       "        text-align: right;\n",
       "    }\n",
       "</style>\n",
       "<table border=\"1\" class=\"dataframe\">\n",
       "  <thead>\n",
       "    <tr style=\"text-align: right;\">\n",
       "      <th></th>\n",
       "      <th>Mean_Books_Price</th>\n",
       "      <th>Book_amouth</th>\n",
       "    </tr>\n",
       "    <tr>\n",
       "      <th>Book_Category</th>\n",
       "      <th></th>\n",
       "      <th></th>\n",
       "    </tr>\n",
       "  </thead>\n",
       "  <tbody>\n",
       "    <tr>\n",
       "      <th>Academic</th>\n",
       "      <td>13.120000</td>\n",
       "      <td>1</td>\n",
       "    </tr>\n",
       "    <tr>\n",
       "      <th>Add a comment</th>\n",
       "      <td>35.796418</td>\n",
       "      <td>67</td>\n",
       "    </tr>\n",
       "    <tr>\n",
       "      <th>Adult Fiction</th>\n",
       "      <td>15.360000</td>\n",
       "      <td>1</td>\n",
       "    </tr>\n",
       "    <tr>\n",
       "      <th>Art</th>\n",
       "      <td>38.520000</td>\n",
       "      <td>8</td>\n",
       "    </tr>\n",
       "    <tr>\n",
       "      <th>Autobiography</th>\n",
       "      <td>37.053333</td>\n",
       "      <td>9</td>\n",
       "    </tr>\n",
       "  </tbody>\n",
       "</table>\n",
       "</div>"
      ],
      "text/plain": [
       "               Mean_Books_Price  Book_amouth\n",
       "Book_Category                               \n",
       "Academic              13.120000            1\n",
       "Add a comment         35.796418           67\n",
       "Adult Fiction         15.360000            1\n",
       "Art                   38.520000            8\n",
       "Autobiography         37.053333            9"
      ]
     },
     "execution_count": 170,
     "metadata": {},
     "output_type": "execute_result"
    }
   ],
   "source": [
    "df2_Category_MeanPrice_Amouth.head(5)"
   ]
  },
  {
   "cell_type": "code",
   "execution_count": 171,
   "metadata": {},
   "outputs": [],
   "source": [
    "# create plot\n",
    "# OX - Book Category\n",
    "# OY - the number of books on this subject"
   ]
  },
  {
   "cell_type": "code",
   "execution_count": 172,
   "metadata": {},
   "outputs": [
    {
     "data": {
      "text/plain": [
       "<AxesSubplot:xlabel='Book_Category'>"
      ]
     },
     "execution_count": 172,
     "metadata": {},
     "output_type": "execute_result"
    },
    {
     "data": {
      "image/png": "[encoded data removed]",
      "text/plain": [
       "<Figure size 2880x1440 with 1 Axes>"
      ]
     },
     "metadata": {
      "needs_background": "light"
     },
     "output_type": "display_data"
    }
   ],
   "source": [
    "df2_Category_MeanPrice_Amouth.plot.bar(y='Book_amouth')"
   ]
  },
  {
   "cell_type": "code",
   "execution_count": 173,
   "metadata": {},
   "outputs": [],
   "source": [
    "# create plot\n",
    "# OX - Mean_Books_Price\n",
    "# OY - the number of books on this subject"
   ]
  },
  {
   "cell_type": "code",
   "execution_count": 174,
   "metadata": {},
   "outputs": [
    {
     "data": {
      "text/plain": [
       "<AxesSubplot:xlabel='Book_Category'>"
      ]
     },
     "execution_count": 174,
     "metadata": {},
     "output_type": "execute_result"
    },
    {
     "data": {
      "image/png": "[encoded data removed]",
      "text/plain": [
       "<Figure size 2880x1440 with 1 Axes>"
      ]
     },
     "metadata": {
      "needs_background": "light"
     },
     "output_type": "display_data"
    }
   ],
   "source": [
    "df2_Category_MeanPrice_Amouth.plot.bar(y='Mean_Books_Price')"
   ]
  },
  {
   "cell_type": "code",
   "execution_count": 175,
   "metadata": {},
   "outputs": [],
   "source": [
    "# only books with more than 50 items in stock"
   ]
  },
  {
   "cell_type": "code",
   "execution_count": 176,
   "metadata": {},
   "outputs": [
    {
     "data": {
      "text/html": [
       "<div>\n",
       "<style scoped>\n",
       "    .dataframe tbody tr th:only-of-type {\n",
       "        vertical-align: middle;\n",
       "    }\n",
       "\n",
       "    .dataframe tbody tr th {\n",
       "        vertical-align: top;\n",
       "    }\n",
       "\n",
       "    .dataframe thead th {\n",
       "        text-align: right;\n",
       "    }\n",
       "</style>\n",
       "<table border=\"1\" class=\"dataframe\">\n",
       "  <thead>\n",
       "    <tr style=\"text-align: right;\">\n",
       "      <th></th>\n",
       "      <th>Mean_Books_Price</th>\n",
       "      <th>Book_amouth</th>\n",
       "    </tr>\n",
       "    <tr>\n",
       "      <th>Book_Category</th>\n",
       "      <th></th>\n",
       "      <th></th>\n",
       "    </tr>\n",
       "  </thead>\n",
       "  <tbody>\n",
       "    <tr>\n",
       "      <th>Add a comment</th>\n",
       "      <td>35.796418</td>\n",
       "      <td>67</td>\n",
       "    </tr>\n",
       "    <tr>\n",
       "      <th>Default</th>\n",
       "      <td>34.392697</td>\n",
       "      <td>152</td>\n",
       "    </tr>\n",
       "    <tr>\n",
       "      <th>Fiction</th>\n",
       "      <td>36.066615</td>\n",
       "      <td>65</td>\n",
       "    </tr>\n",
       "    <tr>\n",
       "      <th>Nonfiction</th>\n",
       "      <td>34.260182</td>\n",
       "      <td>110</td>\n",
       "    </tr>\n",
       "    <tr>\n",
       "      <th>Sequential Art</th>\n",
       "      <td>34.572267</td>\n",
       "      <td>75</td>\n",
       "    </tr>\n",
       "    <tr>\n",
       "      <th>Young Adult</th>\n",
       "      <td>35.449074</td>\n",
       "      <td>54</td>\n",
       "    </tr>\n",
       "  </tbody>\n",
       "</table>\n",
       "</div>"
      ],
      "text/plain": [
       "                Mean_Books_Price  Book_amouth\n",
       "Book_Category                                \n",
       "Add a comment          35.796418           67\n",
       "Default                34.392697          152\n",
       "Fiction                36.066615           65\n",
       "Nonfiction             34.260182          110\n",
       "Sequential Art         34.572267           75\n",
       "Young Adult            35.449074           54"
      ]
     },
     "execution_count": 176,
     "metadata": {},
     "output_type": "execute_result"
    }
   ],
   "source": [
    "book_amouth_more_than_50 = df2_Category_MeanPrice_Amouth.loc[df2_Category_MeanPrice_Amouth[\"Book_amouth\"]>50]\n",
    "book_amouth_more_than_50"
   ]
  },
  {
   "cell_type": "code",
   "execution_count": 177,
   "metadata": {},
   "outputs": [],
   "source": [
    "# only 2 kol - >  kol Book_amouth and Book_Category"
   ]
  },
  {
   "cell_type": "code",
   "execution_count": 178,
   "metadata": {},
   "outputs": [
    {
     "data": {
      "text/html": [
       "<div>\n",
       "<style scoped>\n",
       "    .dataframe tbody tr th:only-of-type {\n",
       "        vertical-align: middle;\n",
       "    }\n",
       "\n",
       "    .dataframe tbody tr th {\n",
       "        vertical-align: top;\n",
       "    }\n",
       "\n",
       "    .dataframe thead th {\n",
       "        text-align: right;\n",
       "    }\n",
       "</style>\n",
       "<table border=\"1\" class=\"dataframe\">\n",
       "  <thead>\n",
       "    <tr style=\"text-align: right;\">\n",
       "      <th></th>\n",
       "      <th>Book_amouth</th>\n",
       "    </tr>\n",
       "    <tr>\n",
       "      <th>Book_Category</th>\n",
       "      <th></th>\n",
       "    </tr>\n",
       "  </thead>\n",
       "  <tbody>\n",
       "    <tr>\n",
       "      <th>Add a comment</th>\n",
       "      <td>67</td>\n",
       "    </tr>\n",
       "    <tr>\n",
       "      <th>Default</th>\n",
       "      <td>152</td>\n",
       "    </tr>\n",
       "    <tr>\n",
       "      <th>Fiction</th>\n",
       "      <td>65</td>\n",
       "    </tr>\n",
       "    <tr>\n",
       "      <th>Nonfiction</th>\n",
       "      <td>110</td>\n",
       "    </tr>\n",
       "    <tr>\n",
       "      <th>Sequential Art</th>\n",
       "      <td>75</td>\n",
       "    </tr>\n",
       "    <tr>\n",
       "      <th>Young Adult</th>\n",
       "      <td>54</td>\n",
       "    </tr>\n",
       "  </tbody>\n",
       "</table>\n",
       "</div>"
      ],
      "text/plain": [
       "                Book_amouth\n",
       "Book_Category              \n",
       "Add a comment            67\n",
       "Default                 152\n",
       "Fiction                  65\n",
       "Nonfiction              110\n",
       "Sequential Art           75\n",
       "Young Adult              54"
      ]
     },
     "execution_count": 178,
     "metadata": {},
     "output_type": "execute_result"
    }
   ],
   "source": [
    "book_amouth_more_than_50.iloc[0:6, 1:2]"
   ]
  },
  {
   "cell_type": "code",
   "execution_count": 179,
   "metadata": {},
   "outputs": [],
   "source": [
    "# showing on a circle chart the percentage distribution of individual categories - selected earlier"
   ]
  },
  {
   "cell_type": "code",
   "execution_count": 180,
   "metadata": {},
   "outputs": [],
   "source": [
    "list_book_cat_and_amouth=book_amouth_more_than_50.iloc[0:6, 1:2]"
   ]
  },
  {
   "cell_type": "code",
   "execution_count": 181,
   "metadata": {
    "scrolled": true
   },
   "outputs": [
    {
     "data": {
      "text/plain": [
       "array([<AxesSubplot:ylabel='Book_amouth'>], dtype=object)"
      ]
     },
     "execution_count": 181,
     "metadata": {},
     "output_type": "execute_result"
    },
    {
     "data": {
      "image/png": "[encoded data removed]",
      "text/plain": [
       "<Figure size 720x576 with 1 Axes>"
      ]
     },
     "metadata": {},
     "output_type": "display_data"
    }
   ],
   "source": [
    "plt.rcParams['figure.figsize'] = [10, 8]\n",
    "plt.rc('legend',fontsize=4)\n",
    "list_book_cat_and_amouth.plot.pie(subplots=True)"
   ]
  },
  {
   "cell_type": "markdown",
   "metadata": {},
   "source": [
    "----"
   ]
  },
  {
   "cell_type": "code",
   "execution_count": 182,
   "metadata": {},
   "outputs": [],
   "source": [
    "# wygeneruj pytanie - inetersuje mnie min , max i sr cena ksiazek , z uwzglednieniem kategori "
   ]
  },
  {
   "cell_type": "code",
   "execution_count": 183,
   "metadata": {},
   "outputs": [],
   "source": [
    "# sztucznie doloz dwie kolmny (kopie kolumny price) i je inaczej nazwij "
   ]
  },
  {
   "cell_type": "code",
   "execution_count": 184,
   "metadata": {},
   "outputs": [],
   "source": [
    "df_2_copy=df.copy()"
   ]
  },
  {
   "cell_type": "code",
   "execution_count": 185,
   "metadata": {},
   "outputs": [],
   "source": [
    "df_2_extra_copy_kol_price=df_2_copy[[cols_name[3],cols_name[2],cols_name[1],cols_name[1],cols_name[1],cols_name[0],cols_name[4]]]"
   ]
  },
  {
   "cell_type": "code",
   "execution_count": 186,
   "metadata": {
    "scrolled": true
   },
   "outputs": [
    {
     "data": {
      "text/html": [
       "<div>\n",
       "<style scoped>\n",
       "    .dataframe tbody tr th:only-of-type {\n",
       "        vertical-align: middle;\n",
       "    }\n",
       "\n",
       "    .dataframe tbody tr th {\n",
       "        vertical-align: top;\n",
       "    }\n",
       "\n",
       "    .dataframe thead th {\n",
       "        text-align: right;\n",
       "    }\n",
       "</style>\n",
       "<table border=\"1\" class=\"dataframe\">\n",
       "  <thead>\n",
       "    <tr style=\"text-align: right;\">\n",
       "      <th></th>\n",
       "      <th>Book_Title</th>\n",
       "      <th>Book_Stars</th>\n",
       "      <th>Book_Price</th>\n",
       "      <th>Book_Price</th>\n",
       "      <th>Book_Price</th>\n",
       "      <th>Book_Category</th>\n",
       "      <th>Book_total_category_amouth</th>\n",
       "    </tr>\n",
       "  </thead>\n",
       "  <tbody>\n",
       "    <tr>\n",
       "      <th>0</th>\n",
       "      <td>It's Only the Himalayas</td>\n",
       "      <td>2</td>\n",
       "      <td>45.17</td>\n",
       "      <td>45.17</td>\n",
       "      <td>45.17</td>\n",
       "      <td>Travel</td>\n",
       "      <td>11</td>\n",
       "    </tr>\n",
       "    <tr>\n",
       "      <th>1</th>\n",
       "      <td>Full Moon over Noah’s Ark: An Odyssey to Mount...</td>\n",
       "      <td>4</td>\n",
       "      <td>49.43</td>\n",
       "      <td>49.43</td>\n",
       "      <td>49.43</td>\n",
       "      <td>Travel</td>\n",
       "      <td>11</td>\n",
       "    </tr>\n",
       "  </tbody>\n",
       "</table>\n",
       "</div>"
      ],
      "text/plain": [
       "                                          Book_Title  Book_Stars  Book_Price  \\\n",
       "0                            It's Only the Himalayas           2       45.17   \n",
       "1  Full Moon over Noah’s Ark: An Odyssey to Mount...           4       49.43   \n",
       "\n",
       "   Book_Price  Book_Price Book_Category  Book_total_category_amouth  \n",
       "0       45.17       45.17        Travel                          11  \n",
       "1       49.43       49.43        Travel                          11  "
      ]
     },
     "execution_count": 186,
     "metadata": {},
     "output_type": "execute_result"
    }
   ],
   "source": [
    "df_2_extra_copy_kol_price.head(2)"
   ]
  },
  {
   "cell_type": "code",
   "execution_count": 187,
   "metadata": {},
   "outputs": [],
   "source": [
    "#rename 2 kolumn"
   ]
  },
  {
   "cell_type": "code",
   "execution_count": 188,
   "metadata": {},
   "outputs": [],
   "source": [
    "#df_2_copy[[cols_name[3],cols_name[2],cols_name[1],cols_name[1],cols_name[1],cols_name[0],cols_name[4]]]=df_2_copy['Book_Title','Book_Stars','Book_Price','Book_Price_copy1','Book_Price_copy2','']"
   ]
  },
  {
   "cell_type": "code",
   "execution_count": 189,
   "metadata": {
    "scrolled": true
   },
   "outputs": [
    {
     "data": {
      "text/plain": [
       "Index(['Book_Title', 'Book_Stars', 'Book_Price', 'Book_Price', 'Book_Price',\n",
       "       'Book_Category', 'Book_total_category_amouth'],\n",
       "      dtype='object')"
      ]
     },
     "execution_count": 189,
     "metadata": {},
     "output_type": "execute_result"
    }
   ],
   "source": [
    "df_2_extra_copy_kol_price.columns"
   ]
  },
  {
   "cell_type": "code",
   "execution_count": 190,
   "metadata": {},
   "outputs": [],
   "source": [
    "df_2_extra_copy_kol_price.columns = ['Book_Title','Book_Stars', 'Book_Price', 'Book_Price_copy1', 'Book_Price_copy2','Book_Category','Book_total_category_amouth']"
   ]
  },
  {
   "cell_type": "code",
   "execution_count": 191,
   "metadata": {},
   "outputs": [
    {
     "data": {
      "text/html": [
       "<div>\n",
       "<style scoped>\n",
       "    .dataframe tbody tr th:only-of-type {\n",
       "        vertical-align: middle;\n",
       "    }\n",
       "\n",
       "    .dataframe tbody tr th {\n",
       "        vertical-align: top;\n",
       "    }\n",
       "\n",
       "    .dataframe thead th {\n",
       "        text-align: right;\n",
       "    }\n",
       "</style>\n",
       "<table border=\"1\" class=\"dataframe\">\n",
       "  <thead>\n",
       "    <tr style=\"text-align: right;\">\n",
       "      <th></th>\n",
       "      <th>Book_Title</th>\n",
       "      <th>Book_Stars</th>\n",
       "      <th>Book_Price</th>\n",
       "      <th>Book_Price_copy1</th>\n",
       "      <th>Book_Price_copy2</th>\n",
       "      <th>Book_Category</th>\n",
       "      <th>Book_total_category_amouth</th>\n",
       "    </tr>\n",
       "  </thead>\n",
       "  <tbody>\n",
       "    <tr>\n",
       "      <th>0</th>\n",
       "      <td>It's Only the Himalayas</td>\n",
       "      <td>2</td>\n",
       "      <td>45.17</td>\n",
       "      <td>45.17</td>\n",
       "      <td>45.17</td>\n",
       "      <td>Travel</td>\n",
       "      <td>11</td>\n",
       "    </tr>\n",
       "    <tr>\n",
       "      <th>1</th>\n",
       "      <td>Full Moon over Noah’s Ark: An Odyssey to Mount...</td>\n",
       "      <td>4</td>\n",
       "      <td>49.43</td>\n",
       "      <td>49.43</td>\n",
       "      <td>49.43</td>\n",
       "      <td>Travel</td>\n",
       "      <td>11</td>\n",
       "    </tr>\n",
       "  </tbody>\n",
       "</table>\n",
       "</div>"
      ],
      "text/plain": [
       "                                          Book_Title  Book_Stars  Book_Price  \\\n",
       "0                            It's Only the Himalayas           2       45.17   \n",
       "1  Full Moon over Noah’s Ark: An Odyssey to Mount...           4       49.43   \n",
       "\n",
       "   Book_Price_copy1  Book_Price_copy2 Book_Category  \\\n",
       "0             45.17             45.17        Travel   \n",
       "1             49.43             49.43        Travel   \n",
       "\n",
       "   Book_total_category_amouth  \n",
       "0                          11  \n",
       "1                          11  "
      ]
     },
     "execution_count": 191,
     "metadata": {},
     "output_type": "execute_result"
    }
   ],
   "source": [
    "df_2_extra_copy_kol_price.head(2)"
   ]
  },
  {
   "cell_type": "code",
   "execution_count": 192,
   "metadata": {
    "scrolled": true
   },
   "outputs": [],
   "source": [
    "# teraz gdy mam indywidualne nazwy moge rownoczenie wygenerowac min i max"
   ]
  },
  {
   "cell_type": "code",
   "execution_count": 193,
   "metadata": {},
   "outputs": [],
   "source": [
    "# znajdz sr cene 1 ks w kazdej kat tematycznej i podaj il ksiazek w kazdej kat\n",
    "\n",
    "#SELECT Book_Category, avg(Book_Price),count(*),min(Book_Price),max(Book_Price)\n",
    "#FROM df\n",
    "#GROUP BY Book_Category;"
   ]
  },
  {
   "cell_type": "code",
   "execution_count": 195,
   "metadata": {},
   "outputs": [
    {
     "data": {
      "text/html": [
       "<div>\n",
       "<style scoped>\n",
       "    .dataframe tbody tr th:only-of-type {\n",
       "        vertical-align: middle;\n",
       "    }\n",
       "\n",
       "    .dataframe tbody tr th {\n",
       "        vertical-align: top;\n",
       "    }\n",
       "\n",
       "    .dataframe thead th {\n",
       "        text-align: right;\n",
       "    }\n",
       "</style>\n",
       "<table border=\"1\" class=\"dataframe\">\n",
       "  <thead>\n",
       "    <tr style=\"text-align: right;\">\n",
       "      <th></th>\n",
       "      <th>Book_Price</th>\n",
       "      <th>Book_Category</th>\n",
       "      <th>Book_Price_copy1</th>\n",
       "      <th>Book_Price_copy2</th>\n",
       "    </tr>\n",
       "    <tr>\n",
       "      <th>Book_Category</th>\n",
       "      <th></th>\n",
       "      <th></th>\n",
       "      <th></th>\n",
       "      <th></th>\n",
       "    </tr>\n",
       "  </thead>\n",
       "  <tbody>\n",
       "    <tr>\n",
       "      <th>Academic</th>\n",
       "      <td>13.120000</td>\n",
       "      <td>1</td>\n",
       "      <td>13.12</td>\n",
       "      <td>13.12</td>\n",
       "    </tr>\n",
       "    <tr>\n",
       "      <th>Add a comment</th>\n",
       "      <td>35.796418</td>\n",
       "      <td>67</td>\n",
       "      <td>10.02</td>\n",
       "      <td>59.15</td>\n",
       "    </tr>\n",
       "    <tr>\n",
       "      <th>Adult Fiction</th>\n",
       "      <td>15.360000</td>\n",
       "      <td>1</td>\n",
       "      <td>15.36</td>\n",
       "      <td>15.36</td>\n",
       "    </tr>\n",
       "    <tr>\n",
       "      <th>Art</th>\n",
       "      <td>38.520000</td>\n",
       "      <td>8</td>\n",
       "      <td>10.29</td>\n",
       "      <td>49.05</td>\n",
       "    </tr>\n",
       "    <tr>\n",
       "      <th>Autobiography</th>\n",
       "      <td>37.053333</td>\n",
       "      <td>9</td>\n",
       "      <td>10.93</td>\n",
       "      <td>59.04</td>\n",
       "    </tr>\n",
       "    <tr>\n",
       "      <th>Biography</th>\n",
       "      <td>33.662000</td>\n",
       "      <td>5</td>\n",
       "      <td>16.85</td>\n",
       "      <td>48.19</td>\n",
       "    </tr>\n",
       "    <tr>\n",
       "      <th>Business</th>\n",
       "      <td>32.460000</td>\n",
       "      <td>12</td>\n",
       "      <td>12.61</td>\n",
       "      <td>51.74</td>\n",
       "    </tr>\n",
       "    <tr>\n",
       "      <th>Childrens</th>\n",
       "      <td>32.638276</td>\n",
       "      <td>29</td>\n",
       "      <td>10.62</td>\n",
       "      <td>58.08</td>\n",
       "    </tr>\n",
       "    <tr>\n",
       "      <th>Christian</th>\n",
       "      <td>42.496667</td>\n",
       "      <td>3</td>\n",
       "      <td>25.77</td>\n",
       "      <td>54.00</td>\n",
       "    </tr>\n",
       "    <tr>\n",
       "      <th>Christian Fiction</th>\n",
       "      <td>34.385000</td>\n",
       "      <td>6</td>\n",
       "      <td>17.97</td>\n",
       "      <td>49.97</td>\n",
       "    </tr>\n",
       "  </tbody>\n",
       "</table>\n",
       "</div>"
      ],
      "text/plain": [
       "                   Book_Price  Book_Category  Book_Price_copy1  \\\n",
       "Book_Category                                                    \n",
       "Academic            13.120000              1             13.12   \n",
       "Add a comment       35.796418             67             10.02   \n",
       "Adult Fiction       15.360000              1             15.36   \n",
       "Art                 38.520000              8             10.29   \n",
       "Autobiography       37.053333              9             10.93   \n",
       "Biography           33.662000              5             16.85   \n",
       "Business            32.460000             12             12.61   \n",
       "Childrens           32.638276             29             10.62   \n",
       "Christian           42.496667              3             25.77   \n",
       "Christian Fiction   34.385000              6             17.97   \n",
       "\n",
       "                   Book_Price_copy2  \n",
       "Book_Category                        \n",
       "Academic                      13.12  \n",
       "Add a comment                 59.15  \n",
       "Adult Fiction                 15.36  \n",
       "Art                           49.05  \n",
       "Autobiography                 59.04  \n",
       "Biography                     48.19  \n",
       "Business                      51.74  \n",
       "Childrens                     58.08  \n",
       "Christian                     54.00  \n",
       "Christian Fiction             49.97  "
      ]
     },
     "execution_count": 195,
     "metadata": {},
     "output_type": "execute_result"
    }
   ],
   "source": [
    "df_2_extra_copy_kol_price.groupby(\"Book_Category\").agg(\n",
    "    {\"Book_Price\": np.mean, \n",
    "     \"Book_Category\": np.size,\n",
    "     \"Book_Price_copy1\": np.min,\n",
    "     \"Book_Price_copy2\": np.max,\n",
    "    })[:10] #first ten"
   ]
  },
  {
   "cell_type": "code",
   "execution_count": 196,
   "metadata": {},
   "outputs": [],
   "source": [
    "tab_MeanPrice_Category_MinPrice_MaxPrice=df_2_extra_copy_kol_price.groupby(\"Book_Category\").agg(\n",
    "    {\"Book_Price\": np.mean, \n",
    "     \"Book_Category\": np.size,\n",
    "     \"Book_Price_copy1\": np.min,\n",
    "     \"Book_Price_copy2\": np.max,\n",
    "    })"
   ]
  },
  {
   "cell_type": "code",
   "execution_count": 197,
   "metadata": {},
   "outputs": [],
   "source": [
    "tab_Min_Max_Mean_Price_Amouth = tab_MeanPrice_Category_MinPrice_MaxPrice.rename(columns =\n",
    "                                                {'Book_Price': 'Mean_Books_Price',\n",
    "                                                 'Book_Category': 'Book_amouth',\n",
    "                                                 'Book_Price_copy1': 'Min_Price',\n",
    "                                                 'Book_Price_copy2': 'Max_Price'}, inplace = False)"
   ]
  },
  {
   "cell_type": "code",
   "execution_count": 198,
   "metadata": {},
   "outputs": [
    {
     "data": {
      "text/html": [
       "<div>\n",
       "<style scoped>\n",
       "    .dataframe tbody tr th:only-of-type {\n",
       "        vertical-align: middle;\n",
       "    }\n",
       "\n",
       "    .dataframe tbody tr th {\n",
       "        vertical-align: top;\n",
       "    }\n",
       "\n",
       "    .dataframe thead th {\n",
       "        text-align: right;\n",
       "    }\n",
       "</style>\n",
       "<table border=\"1\" class=\"dataframe\">\n",
       "  <thead>\n",
       "    <tr style=\"text-align: right;\">\n",
       "      <th></th>\n",
       "      <th>Mean_Books_Price</th>\n",
       "      <th>Book_amouth</th>\n",
       "      <th>Min_Price</th>\n",
       "      <th>Max_Price</th>\n",
       "    </tr>\n",
       "    <tr>\n",
       "      <th>Book_Category</th>\n",
       "      <th></th>\n",
       "      <th></th>\n",
       "      <th></th>\n",
       "      <th></th>\n",
       "    </tr>\n",
       "  </thead>\n",
       "  <tbody>\n",
       "    <tr>\n",
       "      <th>Academic</th>\n",
       "      <td>13.120000</td>\n",
       "      <td>1</td>\n",
       "      <td>13.12</td>\n",
       "      <td>13.12</td>\n",
       "    </tr>\n",
       "    <tr>\n",
       "      <th>Add a comment</th>\n",
       "      <td>35.796418</td>\n",
       "      <td>67</td>\n",
       "      <td>10.02</td>\n",
       "      <td>59.15</td>\n",
       "    </tr>\n",
       "  </tbody>\n",
       "</table>\n",
       "</div>"
      ],
      "text/plain": [
       "               Mean_Books_Price  Book_amouth  Min_Price  Max_Price\n",
       "Book_Category                                                     \n",
       "Academic              13.120000            1      13.12      13.12\n",
       "Add a comment         35.796418           67      10.02      59.15"
      ]
     },
     "execution_count": 198,
     "metadata": {},
     "output_type": "execute_result"
    }
   ],
   "source": [
    "tab_Min_Max_Mean_Price_Amouth.head(2)"
   ]
  },
  {
   "cell_type": "code",
   "execution_count": 200,
   "metadata": {},
   "outputs": [
    {
     "data": {
      "image/png": "[encoded data removed]",
      "text/plain": [
       "<Figure size 720x576 with 1 Axes>"
      ]
     },
     "metadata": {
      "needs_background": "light"
     },
     "output_type": "display_data"
    }
   ],
   "source": [
    "tab_Min_Max_Mean_Price_Amouth.plot.bar(y=['Mean_Books_Price','Min_Price','Max_Price' ])\n",
    "figsize=(40, 40)"
   ]
  },
  {
   "cell_type": "code",
   "execution_count": 202,
   "metadata": {},
   "outputs": [
    {
     "data": {
      "image/png": "[encoded data removed]",
      "text/plain": [
       "<Figure size 720x576 with 1 Axes>"
      ]
     },
     "metadata": {
      "needs_background": "light"
     },
     "output_type": "display_data"
    }
   ],
   "source": [
    "tab_Min_Max_Mean_Price_Amouth[:5].plot.bar(y=['Mean_Books_Price','Min_Price','Max_Price' ]) #first 5\n",
    "figsize=(40, 40)"
   ]
  },
  {
   "cell_type": "code",
   "execution_count": 203,
   "metadata": {
    "scrolled": true
   },
   "outputs": [
    {
     "data": {
      "text/plain": [
       "array([[<AxesSubplot:ylabel='Mean_Books_Price'>],\n",
       "       [<AxesSubplot:ylabel='Book_amouth'>],\n",
       "       [<AxesSubplot:ylabel='Min_Price'>],\n",
       "       [<AxesSubplot:ylabel='Max_Price'>]], dtype=object)"
      ]
     },
     "execution_count": 203,
     "metadata": {},
     "output_type": "execute_result"
    },
    {
     "data": {
      "image/png": "[encoded data removed]",
      "text/plain": [
       "<Figure size 720x576 with 4 Axes>"
      ]
     },
     "metadata": {},
     "output_type": "display_data"
    }
   ],
   "source": [
    "tab_Min_Max_Mean_Price_Amouth[:4].plot.pie(subplots=True,layout=(4,1)) # analiza dla wszytskich kategori na litere A\n",
    "# Akademic, Add a comment, Adult Fiction, Art -> first 4 in tab "
   ]
  },
  {
   "cell_type": "code",
   "execution_count": 204,
   "metadata": {},
   "outputs": [],
   "source": [
    "# read value min max for Category - Add a comment - rows =1 :"
   ]
  },
  {
   "cell_type": "code",
   "execution_count": 205,
   "metadata": {},
   "outputs": [
    {
     "data": {
      "text/plain": [
       "Mean_Books_Price    35.796418\n",
       "Book_amouth         67.000000\n",
       "Min_Price           10.020000\n",
       "Max_Price           59.150000\n",
       "Name: Add a comment, dtype: float64"
      ]
     },
     "execution_count": 205,
     "metadata": {},
     "output_type": "execute_result"
    }
   ],
   "source": [
    "single_category_Add_a_comment_tab_Min_Max_Mean_Price_Amouth= tab_Min_Max_Mean_Price_Amouth.iloc[1]\n",
    "single_category_Add_a_comment_tab_Min_Max_Mean_Price_Amouth"
   ]
  },
  {
   "cell_type": "code",
   "execution_count": 206,
   "metadata": {},
   "outputs": [
    {
     "data": {
      "text/plain": [
       "<AxesSubplot:>"
      ]
     },
     "execution_count": 206,
     "metadata": {},
     "output_type": "execute_result"
    },
    {
     "data": {
      "image/png": "[encoded data removed]",
      "text/plain": [
       "<Figure size 1440x720 with 1 Axes>"
      ]
     },
     "metadata": {
      "needs_background": "light"
     },
     "output_type": "display_data"
    }
   ],
   "source": [
    "plt.rc('legend',fontsize=8)\n",
    "plt.rcParams['figure.figsize'] = [20, 10]\n",
    "single_category_Add_a_comment_tab_Min_Max_Mean_Price_Amouth[2:4].plot.bar(y=\n",
    "                                                                     ['Min_Price',\n",
    "                                                                      'Max_Price']) \n",
    "# chce tylko zobaczyc max i min stad single_category_Add_a_comment_tab_Min_Max_Mean_Price_Amouth[2:4]"
   ]
  },
  {
   "cell_type": "markdown",
   "metadata": {},
   "source": [
    "i need change the size my plot - source --> https://stackoverflow.com/questions/36367986/how-to-make-inline-plots-in-jupyter-notebook-larger"
   ]
  },
  {
   "cell_type": "code",
   "execution_count": 207,
   "metadata": {},
   "outputs": [
    {
     "data": {
      "text/html": [
       "<div>\n",
       "<style scoped>\n",
       "    .dataframe tbody tr th:only-of-type {\n",
       "        vertical-align: middle;\n",
       "    }\n",
       "\n",
       "    .dataframe tbody tr th {\n",
       "        vertical-align: top;\n",
       "    }\n",
       "\n",
       "    .dataframe thead th {\n",
       "        text-align: right;\n",
       "    }\n",
       "</style>\n",
       "<table border=\"1\" class=\"dataframe\">\n",
       "  <thead>\n",
       "    <tr style=\"text-align: right;\">\n",
       "      <th></th>\n",
       "      <th>Book_Category</th>\n",
       "      <th>Book_Price</th>\n",
       "      <th>Book_Stars</th>\n",
       "      <th>Book_Title</th>\n",
       "      <th>Book_total_category_amouth</th>\n",
       "    </tr>\n",
       "  </thead>\n",
       "  <tbody>\n",
       "    <tr>\n",
       "      <th>18</th>\n",
       "      <td>Mystery</td>\n",
       "      <td>10.69</td>\n",
       "      <td>1</td>\n",
       "      <td>Tastes Like Fear (DI Marnie Rome #3)</td>\n",
       "      <td>32</td>\n",
       "    </tr>\n",
       "    <tr>\n",
       "      <th>315</th>\n",
       "      <td>Childrens</td>\n",
       "      <td>10.62</td>\n",
       "      <td>1</td>\n",
       "      <td>Counting Thyme</td>\n",
       "      <td>29</td>\n",
       "    </tr>\n",
       "    <tr>\n",
       "      <th>474</th>\n",
       "      <td>Default</td>\n",
       "      <td>10.76</td>\n",
       "      <td>1</td>\n",
       "      <td>Miss Peregrine’s Home for Peculiar Children (M...</td>\n",
       "      <td>152</td>\n",
       "    </tr>\n",
       "    <tr>\n",
       "      <th>605</th>\n",
       "      <td>Science Fiction</td>\n",
       "      <td>10.65</td>\n",
       "      <td>1</td>\n",
       "      <td>The Project</td>\n",
       "      <td>16</td>\n",
       "    </tr>\n",
       "    <tr>\n",
       "      <th>610</th>\n",
       "      <td>Science Fiction</td>\n",
       "      <td>10.92</td>\n",
       "      <td>1</td>\n",
       "      <td>The Restaurant at the End of the Universe (Hit...</td>\n",
       "      <td>16</td>\n",
       "    </tr>\n",
       "  </tbody>\n",
       "</table>\n",
       "</div>"
      ],
      "text/plain": [
       "       Book_Category  Book_Price  Book_Stars  \\\n",
       "18           Mystery       10.69           1   \n",
       "315        Childrens       10.62           1   \n",
       "474          Default       10.76           1   \n",
       "605  Science Fiction       10.65           1   \n",
       "610  Science Fiction       10.92           1   \n",
       "\n",
       "                                            Book_Title  \\\n",
       "18                Tastes Like Fear (DI Marnie Rome #3)   \n",
       "315                                     Counting Thyme   \n",
       "474  Miss Peregrine’s Home for Peculiar Children (M...   \n",
       "605                                        The Project   \n",
       "610  The Restaurant at the End of the Universe (Hit...   \n",
       "\n",
       "     Book_total_category_amouth  \n",
       "18                           32  \n",
       "315                          29  \n",
       "474                         152  \n",
       "605                          16  \n",
       "610                          16  "
      ]
     },
     "execution_count": 207,
     "metadata": {},
     "output_type": "execute_result"
    }
   ],
   "source": [
    "a.head(5)"
   ]
  },
  {
   "cell_type": "markdown",
   "metadata": {},
   "source": [
    "----"
   ]
  },
  {
   "cell_type": "raw",
   "metadata": {},
   "source": [
    "\"\"\"\n",
    "Part 4\n",
    "    how to use definitions to change the attributes of the analyzed data (e.g. the color of the values that interest us)\n",
    "\"\"\""
   ]
  },
  {
   "cell_type": "markdown",
   "metadata": {},
   "source": [
    "change color to visualisation min and max Book_Stars"
   ]
  },
  {
   "cell_type": "code",
   "execution_count": 208,
   "metadata": {},
   "outputs": [],
   "source": [
    "def color_1star_red(val):\n",
    "    \"\"\"\n",
    "    Takes a scalar and returns a string with\n",
    "    the css property `'color: red'` for negative\n",
    "    strings, black otherwise.\n",
    "    \"\"\"\n",
    "    color = 'red' if val == 1 or val==2 else 'black'\n",
    "    return 'color: %s' % color"
   ]
  },
  {
   "cell_type": "code",
   "execution_count": 212,
   "metadata": {},
   "outputs": [
    {
     "data": {
      "text/html": [
       "<style  type=\"text/css\" >\n",
       "    #T_9cb06486_8bc2_11eb_b226_6c4008b5497crow0_col0 {\n",
       "            color:  black;\n",
       "        }    #T_9cb06486_8bc2_11eb_b226_6c4008b5497crow0_col1 {\n",
       "            color:  red;\n",
       "        }    #T_9cb06486_8bc2_11eb_b226_6c4008b5497crow0_col2 {\n",
       "            color:  black;\n",
       "        }    #T_9cb06486_8bc2_11eb_b226_6c4008b5497crow0_col3 {\n",
       "            color:  black;\n",
       "        }    #T_9cb06486_8bc2_11eb_b226_6c4008b5497crow0_col4 {\n",
       "            color:  black;\n",
       "        }    #T_9cb06486_8bc2_11eb_b226_6c4008b5497crow1_col0 {\n",
       "            color:  black;\n",
       "        }    #T_9cb06486_8bc2_11eb_b226_6c4008b5497crow1_col1 {\n",
       "            color:  black;\n",
       "        }    #T_9cb06486_8bc2_11eb_b226_6c4008b5497crow1_col2 {\n",
       "            color:  black;\n",
       "        }    #T_9cb06486_8bc2_11eb_b226_6c4008b5497crow1_col3 {\n",
       "            color:  black;\n",
       "        }    #T_9cb06486_8bc2_11eb_b226_6c4008b5497crow1_col4 {\n",
       "            color:  black;\n",
       "        }    #T_9cb06486_8bc2_11eb_b226_6c4008b5497crow2_col0 {\n",
       "            color:  black;\n",
       "        }    #T_9cb06486_8bc2_11eb_b226_6c4008b5497crow2_col1 {\n",
       "            color:  black;\n",
       "        }    #T_9cb06486_8bc2_11eb_b226_6c4008b5497crow2_col2 {\n",
       "            color:  black;\n",
       "        }    #T_9cb06486_8bc2_11eb_b226_6c4008b5497crow2_col3 {\n",
       "            color:  black;\n",
       "        }    #T_9cb06486_8bc2_11eb_b226_6c4008b5497crow2_col4 {\n",
       "            color:  black;\n",
       "        }    #T_9cb06486_8bc2_11eb_b226_6c4008b5497crow3_col0 {\n",
       "            color:  black;\n",
       "        }    #T_9cb06486_8bc2_11eb_b226_6c4008b5497crow3_col1 {\n",
       "            color:  red;\n",
       "        }    #T_9cb06486_8bc2_11eb_b226_6c4008b5497crow3_col2 {\n",
       "            color:  black;\n",
       "        }    #T_9cb06486_8bc2_11eb_b226_6c4008b5497crow3_col3 {\n",
       "            color:  black;\n",
       "        }    #T_9cb06486_8bc2_11eb_b226_6c4008b5497crow3_col4 {\n",
       "            color:  black;\n",
       "        }    #T_9cb06486_8bc2_11eb_b226_6c4008b5497crow4_col0 {\n",
       "            color:  black;\n",
       "        }    #T_9cb06486_8bc2_11eb_b226_6c4008b5497crow4_col1 {\n",
       "            color:  black;\n",
       "        }    #T_9cb06486_8bc2_11eb_b226_6c4008b5497crow4_col2 {\n",
       "            color:  black;\n",
       "        }    #T_9cb06486_8bc2_11eb_b226_6c4008b5497crow4_col3 {\n",
       "            color:  black;\n",
       "        }    #T_9cb06486_8bc2_11eb_b226_6c4008b5497crow4_col4 {\n",
       "            color:  black;\n",
       "        }</style><table id=\"T_9cb06486_8bc2_11eb_b226_6c4008b5497c\" ><thead>    <tr>        <th class=\"blank level0\" ></th>        <th class=\"col_heading level0 col0\" >Book_Title</th>        <th class=\"col_heading level0 col1\" >Book_Stars</th>        <th class=\"col_heading level0 col2\" >Book_Price</th>        <th class=\"col_heading level0 col3\" >Book_Category</th>        <th class=\"col_heading level0 col4\" >Book_total_category_amouth</th>    </tr></thead><tbody>\n",
       "                <tr>\n",
       "                        <th id=\"T_9cb06486_8bc2_11eb_b226_6c4008b5497clevel0_row0\" class=\"row_heading level0 row0\" >0</th>\n",
       "                        <td id=\"T_9cb06486_8bc2_11eb_b226_6c4008b5497crow0_col0\" class=\"data row0 col0\" >It's Only the Himalayas</td>\n",
       "                        <td id=\"T_9cb06486_8bc2_11eb_b226_6c4008b5497crow0_col1\" class=\"data row0 col1\" >2</td>\n",
       "                        <td id=\"T_9cb06486_8bc2_11eb_b226_6c4008b5497crow0_col2\" class=\"data row0 col2\" >45.170000</td>\n",
       "                        <td id=\"T_9cb06486_8bc2_11eb_b226_6c4008b5497crow0_col3\" class=\"data row0 col3\" >Travel</td>\n",
       "                        <td id=\"T_9cb06486_8bc2_11eb_b226_6c4008b5497crow0_col4\" class=\"data row0 col4\" >11</td>\n",
       "            </tr>\n",
       "            <tr>\n",
       "                        <th id=\"T_9cb06486_8bc2_11eb_b226_6c4008b5497clevel0_row1\" class=\"row_heading level0 row1\" >1</th>\n",
       "                        <td id=\"T_9cb06486_8bc2_11eb_b226_6c4008b5497crow1_col0\" class=\"data row1 col0\" >Full Moon over Noah’s Ark: An Odyssey to Mount Ararat and Beyond</td>\n",
       "                        <td id=\"T_9cb06486_8bc2_11eb_b226_6c4008b5497crow1_col1\" class=\"data row1 col1\" >4</td>\n",
       "                        <td id=\"T_9cb06486_8bc2_11eb_b226_6c4008b5497crow1_col2\" class=\"data row1 col2\" >49.430000</td>\n",
       "                        <td id=\"T_9cb06486_8bc2_11eb_b226_6c4008b5497crow1_col3\" class=\"data row1 col3\" >Travel</td>\n",
       "                        <td id=\"T_9cb06486_8bc2_11eb_b226_6c4008b5497crow1_col4\" class=\"data row1 col4\" >11</td>\n",
       "            </tr>\n",
       "            <tr>\n",
       "                        <th id=\"T_9cb06486_8bc2_11eb_b226_6c4008b5497clevel0_row2\" class=\"row_heading level0 row2\" >2</th>\n",
       "                        <td id=\"T_9cb06486_8bc2_11eb_b226_6c4008b5497crow2_col0\" class=\"data row2 col0\" >See America: A Celebration of Our National Parks & Treasured Sites</td>\n",
       "                        <td id=\"T_9cb06486_8bc2_11eb_b226_6c4008b5497crow2_col1\" class=\"data row2 col1\" >3</td>\n",
       "                        <td id=\"T_9cb06486_8bc2_11eb_b226_6c4008b5497crow2_col2\" class=\"data row2 col2\" >48.870000</td>\n",
       "                        <td id=\"T_9cb06486_8bc2_11eb_b226_6c4008b5497crow2_col3\" class=\"data row2 col3\" >Travel</td>\n",
       "                        <td id=\"T_9cb06486_8bc2_11eb_b226_6c4008b5497crow2_col4\" class=\"data row2 col4\" >11</td>\n",
       "            </tr>\n",
       "            <tr>\n",
       "                        <th id=\"T_9cb06486_8bc2_11eb_b226_6c4008b5497clevel0_row3\" class=\"row_heading level0 row3\" >3</th>\n",
       "                        <td id=\"T_9cb06486_8bc2_11eb_b226_6c4008b5497crow3_col0\" class=\"data row3 col0\" >Vagabonding: An Uncommon Guide to the Art of Long-Term World Travel</td>\n",
       "                        <td id=\"T_9cb06486_8bc2_11eb_b226_6c4008b5497crow3_col1\" class=\"data row3 col1\" >2</td>\n",
       "                        <td id=\"T_9cb06486_8bc2_11eb_b226_6c4008b5497crow3_col2\" class=\"data row3 col2\" >36.940000</td>\n",
       "                        <td id=\"T_9cb06486_8bc2_11eb_b226_6c4008b5497crow3_col3\" class=\"data row3 col3\" >Travel</td>\n",
       "                        <td id=\"T_9cb06486_8bc2_11eb_b226_6c4008b5497crow3_col4\" class=\"data row3 col4\" >11</td>\n",
       "            </tr>\n",
       "            <tr>\n",
       "                        <th id=\"T_9cb06486_8bc2_11eb_b226_6c4008b5497clevel0_row4\" class=\"row_heading level0 row4\" >4</th>\n",
       "                        <td id=\"T_9cb06486_8bc2_11eb_b226_6c4008b5497crow4_col0\" class=\"data row4 col0\" >Under the Tuscan Sun</td>\n",
       "                        <td id=\"T_9cb06486_8bc2_11eb_b226_6c4008b5497crow4_col1\" class=\"data row4 col1\" >3</td>\n",
       "                        <td id=\"T_9cb06486_8bc2_11eb_b226_6c4008b5497crow4_col2\" class=\"data row4 col2\" >37.330000</td>\n",
       "                        <td id=\"T_9cb06486_8bc2_11eb_b226_6c4008b5497crow4_col3\" class=\"data row4 col3\" >Travel</td>\n",
       "                        <td id=\"T_9cb06486_8bc2_11eb_b226_6c4008b5497crow4_col4\" class=\"data row4 col4\" >11</td>\n",
       "            </tr>\n",
       "    </tbody></table>"
      ],
      "text/plain": [
       "<pandas.io.formats.style.Styler at 0x7f830ba4ced0>"
      ]
     },
     "execution_count": 212,
     "metadata": {},
     "output_type": "execute_result"
    }
   ],
   "source": [
    "color_value_1_star_styling = df[:5].style.applymap(color_1star_red)# first 5\n",
    "color_value_1_star_styling"
   ]
  },
  {
   "cell_type": "code",
   "execution_count": 213,
   "metadata": {},
   "outputs": [],
   "source": [
    "def color_1star_red_5star_blue(val):\n",
    "    if val == 1:\n",
    "        color = 'red' \n",
    "    elif val == 5:\n",
    "        color = 'blue' \n",
    "    else:\n",
    "        color = 'yellow'\n",
    "    return 'color: %s' % color"
   ]
  },
  {
   "cell_type": "code",
   "execution_count": 216,
   "metadata": {},
   "outputs": [
    {
     "data": {
      "text/html": [
       "<style  type=\"text/css\" >\n",
       "    #T_b59c9f14_8bc2_11eb_b226_6c4008b5497crow0_col0 {\n",
       "            color:  yellow;\n",
       "        }    #T_b59c9f14_8bc2_11eb_b226_6c4008b5497crow0_col1 {\n",
       "            color:  yellow;\n",
       "        }    #T_b59c9f14_8bc2_11eb_b226_6c4008b5497crow0_col2 {\n",
       "            color:  yellow;\n",
       "        }    #T_b59c9f14_8bc2_11eb_b226_6c4008b5497crow0_col3 {\n",
       "            color:  yellow;\n",
       "        }    #T_b59c9f14_8bc2_11eb_b226_6c4008b5497crow0_col4 {\n",
       "            color:  yellow;\n",
       "        }    #T_b59c9f14_8bc2_11eb_b226_6c4008b5497crow1_col0 {\n",
       "            color:  yellow;\n",
       "        }    #T_b59c9f14_8bc2_11eb_b226_6c4008b5497crow1_col1 {\n",
       "            color:  yellow;\n",
       "        }    #T_b59c9f14_8bc2_11eb_b226_6c4008b5497crow1_col2 {\n",
       "            color:  yellow;\n",
       "        }    #T_b59c9f14_8bc2_11eb_b226_6c4008b5497crow1_col3 {\n",
       "            color:  yellow;\n",
       "        }    #T_b59c9f14_8bc2_11eb_b226_6c4008b5497crow1_col4 {\n",
       "            color:  yellow;\n",
       "        }    #T_b59c9f14_8bc2_11eb_b226_6c4008b5497crow2_col0 {\n",
       "            color:  yellow;\n",
       "        }    #T_b59c9f14_8bc2_11eb_b226_6c4008b5497crow2_col1 {\n",
       "            color:  yellow;\n",
       "        }    #T_b59c9f14_8bc2_11eb_b226_6c4008b5497crow2_col2 {\n",
       "            color:  yellow;\n",
       "        }    #T_b59c9f14_8bc2_11eb_b226_6c4008b5497crow2_col3 {\n",
       "            color:  yellow;\n",
       "        }    #T_b59c9f14_8bc2_11eb_b226_6c4008b5497crow2_col4 {\n",
       "            color:  yellow;\n",
       "        }    #T_b59c9f14_8bc2_11eb_b226_6c4008b5497crow3_col0 {\n",
       "            color:  yellow;\n",
       "        }    #T_b59c9f14_8bc2_11eb_b226_6c4008b5497crow3_col1 {\n",
       "            color:  yellow;\n",
       "        }    #T_b59c9f14_8bc2_11eb_b226_6c4008b5497crow3_col2 {\n",
       "            color:  yellow;\n",
       "        }    #T_b59c9f14_8bc2_11eb_b226_6c4008b5497crow3_col3 {\n",
       "            color:  yellow;\n",
       "        }    #T_b59c9f14_8bc2_11eb_b226_6c4008b5497crow3_col4 {\n",
       "            color:  yellow;\n",
       "        }    #T_b59c9f14_8bc2_11eb_b226_6c4008b5497crow4_col0 {\n",
       "            color:  yellow;\n",
       "        }    #T_b59c9f14_8bc2_11eb_b226_6c4008b5497crow4_col1 {\n",
       "            color:  yellow;\n",
       "        }    #T_b59c9f14_8bc2_11eb_b226_6c4008b5497crow4_col2 {\n",
       "            color:  yellow;\n",
       "        }    #T_b59c9f14_8bc2_11eb_b226_6c4008b5497crow4_col3 {\n",
       "            color:  yellow;\n",
       "        }    #T_b59c9f14_8bc2_11eb_b226_6c4008b5497crow4_col4 {\n",
       "            color:  yellow;\n",
       "        }    #T_b59c9f14_8bc2_11eb_b226_6c4008b5497crow5_col0 {\n",
       "            color:  yellow;\n",
       "        }    #T_b59c9f14_8bc2_11eb_b226_6c4008b5497crow5_col1 {\n",
       "            color:  yellow;\n",
       "        }    #T_b59c9f14_8bc2_11eb_b226_6c4008b5497crow5_col2 {\n",
       "            color:  yellow;\n",
       "        }    #T_b59c9f14_8bc2_11eb_b226_6c4008b5497crow5_col3 {\n",
       "            color:  yellow;\n",
       "        }    #T_b59c9f14_8bc2_11eb_b226_6c4008b5497crow5_col4 {\n",
       "            color:  yellow;\n",
       "        }    #T_b59c9f14_8bc2_11eb_b226_6c4008b5497crow6_col0 {\n",
       "            color:  yellow;\n",
       "        }    #T_b59c9f14_8bc2_11eb_b226_6c4008b5497crow6_col1 {\n",
       "            color:  red;\n",
       "        }    #T_b59c9f14_8bc2_11eb_b226_6c4008b5497crow6_col2 {\n",
       "            color:  yellow;\n",
       "        }    #T_b59c9f14_8bc2_11eb_b226_6c4008b5497crow6_col3 {\n",
       "            color:  yellow;\n",
       "        }    #T_b59c9f14_8bc2_11eb_b226_6c4008b5497crow6_col4 {\n",
       "            color:  yellow;\n",
       "        }    #T_b59c9f14_8bc2_11eb_b226_6c4008b5497crow7_col0 {\n",
       "            color:  yellow;\n",
       "        }    #T_b59c9f14_8bc2_11eb_b226_6c4008b5497crow7_col1 {\n",
       "            color:  yellow;\n",
       "        }    #T_b59c9f14_8bc2_11eb_b226_6c4008b5497crow7_col2 {\n",
       "            color:  yellow;\n",
       "        }    #T_b59c9f14_8bc2_11eb_b226_6c4008b5497crow7_col3 {\n",
       "            color:  yellow;\n",
       "        }    #T_b59c9f14_8bc2_11eb_b226_6c4008b5497crow7_col4 {\n",
       "            color:  yellow;\n",
       "        }    #T_b59c9f14_8bc2_11eb_b226_6c4008b5497crow8_col0 {\n",
       "            color:  yellow;\n",
       "        }    #T_b59c9f14_8bc2_11eb_b226_6c4008b5497crow8_col1 {\n",
       "            color:  red;\n",
       "        }    #T_b59c9f14_8bc2_11eb_b226_6c4008b5497crow8_col2 {\n",
       "            color:  yellow;\n",
       "        }    #T_b59c9f14_8bc2_11eb_b226_6c4008b5497crow8_col3 {\n",
       "            color:  yellow;\n",
       "        }    #T_b59c9f14_8bc2_11eb_b226_6c4008b5497crow8_col4 {\n",
       "            color:  yellow;\n",
       "        }    #T_b59c9f14_8bc2_11eb_b226_6c4008b5497crow9_col0 {\n",
       "            color:  yellow;\n",
       "        }    #T_b59c9f14_8bc2_11eb_b226_6c4008b5497crow9_col1 {\n",
       "            color:  yellow;\n",
       "        }    #T_b59c9f14_8bc2_11eb_b226_6c4008b5497crow9_col2 {\n",
       "            color:  yellow;\n",
       "        }    #T_b59c9f14_8bc2_11eb_b226_6c4008b5497crow9_col3 {\n",
       "            color:  yellow;\n",
       "        }    #T_b59c9f14_8bc2_11eb_b226_6c4008b5497crow9_col4 {\n",
       "            color:  yellow;\n",
       "        }    #T_b59c9f14_8bc2_11eb_b226_6c4008b5497crow10_col0 {\n",
       "            color:  yellow;\n",
       "        }    #T_b59c9f14_8bc2_11eb_b226_6c4008b5497crow10_col1 {\n",
       "            color:  blue;\n",
       "        }    #T_b59c9f14_8bc2_11eb_b226_6c4008b5497crow10_col2 {\n",
       "            color:  yellow;\n",
       "        }    #T_b59c9f14_8bc2_11eb_b226_6c4008b5497crow10_col3 {\n",
       "            color:  yellow;\n",
       "        }    #T_b59c9f14_8bc2_11eb_b226_6c4008b5497crow10_col4 {\n",
       "            color:  yellow;\n",
       "        }    #T_b59c9f14_8bc2_11eb_b226_6c4008b5497crow11_col0 {\n",
       "            color:  yellow;\n",
       "        }    #T_b59c9f14_8bc2_11eb_b226_6c4008b5497crow11_col1 {\n",
       "            color:  yellow;\n",
       "        }    #T_b59c9f14_8bc2_11eb_b226_6c4008b5497crow11_col2 {\n",
       "            color:  yellow;\n",
       "        }    #T_b59c9f14_8bc2_11eb_b226_6c4008b5497crow11_col3 {\n",
       "            color:  yellow;\n",
       "        }    #T_b59c9f14_8bc2_11eb_b226_6c4008b5497crow11_col4 {\n",
       "            color:  yellow;\n",
       "        }    #T_b59c9f14_8bc2_11eb_b226_6c4008b5497crow12_col0 {\n",
       "            color:  yellow;\n",
       "        }    #T_b59c9f14_8bc2_11eb_b226_6c4008b5497crow12_col1 {\n",
       "            color:  red;\n",
       "        }    #T_b59c9f14_8bc2_11eb_b226_6c4008b5497crow12_col2 {\n",
       "            color:  yellow;\n",
       "        }    #T_b59c9f14_8bc2_11eb_b226_6c4008b5497crow12_col3 {\n",
       "            color:  yellow;\n",
       "        }    #T_b59c9f14_8bc2_11eb_b226_6c4008b5497crow12_col4 {\n",
       "            color:  yellow;\n",
       "        }    #T_b59c9f14_8bc2_11eb_b226_6c4008b5497crow13_col0 {\n",
       "            color:  yellow;\n",
       "        }    #T_b59c9f14_8bc2_11eb_b226_6c4008b5497crow13_col1 {\n",
       "            color:  yellow;\n",
       "        }    #T_b59c9f14_8bc2_11eb_b226_6c4008b5497crow13_col2 {\n",
       "            color:  yellow;\n",
       "        }    #T_b59c9f14_8bc2_11eb_b226_6c4008b5497crow13_col3 {\n",
       "            color:  yellow;\n",
       "        }    #T_b59c9f14_8bc2_11eb_b226_6c4008b5497crow13_col4 {\n",
       "            color:  yellow;\n",
       "        }    #T_b59c9f14_8bc2_11eb_b226_6c4008b5497crow14_col0 {\n",
       "            color:  yellow;\n",
       "        }    #T_b59c9f14_8bc2_11eb_b226_6c4008b5497crow14_col1 {\n",
       "            color:  red;\n",
       "        }    #T_b59c9f14_8bc2_11eb_b226_6c4008b5497crow14_col2 {\n",
       "            color:  yellow;\n",
       "        }    #T_b59c9f14_8bc2_11eb_b226_6c4008b5497crow14_col3 {\n",
       "            color:  yellow;\n",
       "        }    #T_b59c9f14_8bc2_11eb_b226_6c4008b5497crow14_col4 {\n",
       "            color:  yellow;\n",
       "        }</style><table id=\"T_b59c9f14_8bc2_11eb_b226_6c4008b5497c\" ><thead>    <tr>        <th class=\"blank level0\" ></th>        <th class=\"col_heading level0 col0\" >Book_Title</th>        <th class=\"col_heading level0 col1\" >Book_Stars</th>        <th class=\"col_heading level0 col2\" >Book_Price</th>        <th class=\"col_heading level0 col3\" >Book_Category</th>        <th class=\"col_heading level0 col4\" >Book_total_category_amouth</th>    </tr></thead><tbody>\n",
       "                <tr>\n",
       "                        <th id=\"T_b59c9f14_8bc2_11eb_b226_6c4008b5497clevel0_row0\" class=\"row_heading level0 row0\" >0</th>\n",
       "                        <td id=\"T_b59c9f14_8bc2_11eb_b226_6c4008b5497crow0_col0\" class=\"data row0 col0\" >It's Only the Himalayas</td>\n",
       "                        <td id=\"T_b59c9f14_8bc2_11eb_b226_6c4008b5497crow0_col1\" class=\"data row0 col1\" >2</td>\n",
       "                        <td id=\"T_b59c9f14_8bc2_11eb_b226_6c4008b5497crow0_col2\" class=\"data row0 col2\" >45.170000</td>\n",
       "                        <td id=\"T_b59c9f14_8bc2_11eb_b226_6c4008b5497crow0_col3\" class=\"data row0 col3\" >Travel</td>\n",
       "                        <td id=\"T_b59c9f14_8bc2_11eb_b226_6c4008b5497crow0_col4\" class=\"data row0 col4\" >11</td>\n",
       "            </tr>\n",
       "            <tr>\n",
       "                        <th id=\"T_b59c9f14_8bc2_11eb_b226_6c4008b5497clevel0_row1\" class=\"row_heading level0 row1\" >1</th>\n",
       "                        <td id=\"T_b59c9f14_8bc2_11eb_b226_6c4008b5497crow1_col0\" class=\"data row1 col0\" >Full Moon over Noah’s Ark: An Odyssey to Mount Ararat and Beyond</td>\n",
       "                        <td id=\"T_b59c9f14_8bc2_11eb_b226_6c4008b5497crow1_col1\" class=\"data row1 col1\" >4</td>\n",
       "                        <td id=\"T_b59c9f14_8bc2_11eb_b226_6c4008b5497crow1_col2\" class=\"data row1 col2\" >49.430000</td>\n",
       "                        <td id=\"T_b59c9f14_8bc2_11eb_b226_6c4008b5497crow1_col3\" class=\"data row1 col3\" >Travel</td>\n",
       "                        <td id=\"T_b59c9f14_8bc2_11eb_b226_6c4008b5497crow1_col4\" class=\"data row1 col4\" >11</td>\n",
       "            </tr>\n",
       "            <tr>\n",
       "                        <th id=\"T_b59c9f14_8bc2_11eb_b226_6c4008b5497clevel0_row2\" class=\"row_heading level0 row2\" >2</th>\n",
       "                        <td id=\"T_b59c9f14_8bc2_11eb_b226_6c4008b5497crow2_col0\" class=\"data row2 col0\" >See America: A Celebration of Our National Parks & Treasured Sites</td>\n",
       "                        <td id=\"T_b59c9f14_8bc2_11eb_b226_6c4008b5497crow2_col1\" class=\"data row2 col1\" >3</td>\n",
       "                        <td id=\"T_b59c9f14_8bc2_11eb_b226_6c4008b5497crow2_col2\" class=\"data row2 col2\" >48.870000</td>\n",
       "                        <td id=\"T_b59c9f14_8bc2_11eb_b226_6c4008b5497crow2_col3\" class=\"data row2 col3\" >Travel</td>\n",
       "                        <td id=\"T_b59c9f14_8bc2_11eb_b226_6c4008b5497crow2_col4\" class=\"data row2 col4\" >11</td>\n",
       "            </tr>\n",
       "            <tr>\n",
       "                        <th id=\"T_b59c9f14_8bc2_11eb_b226_6c4008b5497clevel0_row3\" class=\"row_heading level0 row3\" >3</th>\n",
       "                        <td id=\"T_b59c9f14_8bc2_11eb_b226_6c4008b5497crow3_col0\" class=\"data row3 col0\" >Vagabonding: An Uncommon Guide to the Art of Long-Term World Travel</td>\n",
       "                        <td id=\"T_b59c9f14_8bc2_11eb_b226_6c4008b5497crow3_col1\" class=\"data row3 col1\" >2</td>\n",
       "                        <td id=\"T_b59c9f14_8bc2_11eb_b226_6c4008b5497crow3_col2\" class=\"data row3 col2\" >36.940000</td>\n",
       "                        <td id=\"T_b59c9f14_8bc2_11eb_b226_6c4008b5497crow3_col3\" class=\"data row3 col3\" >Travel</td>\n",
       "                        <td id=\"T_b59c9f14_8bc2_11eb_b226_6c4008b5497crow3_col4\" class=\"data row3 col4\" >11</td>\n",
       "            </tr>\n",
       "            <tr>\n",
       "                        <th id=\"T_b59c9f14_8bc2_11eb_b226_6c4008b5497clevel0_row4\" class=\"row_heading level0 row4\" >4</th>\n",
       "                        <td id=\"T_b59c9f14_8bc2_11eb_b226_6c4008b5497crow4_col0\" class=\"data row4 col0\" >Under the Tuscan Sun</td>\n",
       "                        <td id=\"T_b59c9f14_8bc2_11eb_b226_6c4008b5497crow4_col1\" class=\"data row4 col1\" >3</td>\n",
       "                        <td id=\"T_b59c9f14_8bc2_11eb_b226_6c4008b5497crow4_col2\" class=\"data row4 col2\" >37.330000</td>\n",
       "                        <td id=\"T_b59c9f14_8bc2_11eb_b226_6c4008b5497crow4_col3\" class=\"data row4 col3\" >Travel</td>\n",
       "                        <td id=\"T_b59c9f14_8bc2_11eb_b226_6c4008b5497crow4_col4\" class=\"data row4 col4\" >11</td>\n",
       "            </tr>\n",
       "            <tr>\n",
       "                        <th id=\"T_b59c9f14_8bc2_11eb_b226_6c4008b5497clevel0_row5\" class=\"row_heading level0 row5\" >5</th>\n",
       "                        <td id=\"T_b59c9f14_8bc2_11eb_b226_6c4008b5497crow5_col0\" class=\"data row5 col0\" >A Summer In Europe</td>\n",
       "                        <td id=\"T_b59c9f14_8bc2_11eb_b226_6c4008b5497crow5_col1\" class=\"data row5 col1\" >2</td>\n",
       "                        <td id=\"T_b59c9f14_8bc2_11eb_b226_6c4008b5497crow5_col2\" class=\"data row5 col2\" >44.340000</td>\n",
       "                        <td id=\"T_b59c9f14_8bc2_11eb_b226_6c4008b5497crow5_col3\" class=\"data row5 col3\" >Travel</td>\n",
       "                        <td id=\"T_b59c9f14_8bc2_11eb_b226_6c4008b5497crow5_col4\" class=\"data row5 col4\" >11</td>\n",
       "            </tr>\n",
       "            <tr>\n",
       "                        <th id=\"T_b59c9f14_8bc2_11eb_b226_6c4008b5497clevel0_row6\" class=\"row_heading level0 row6\" >6</th>\n",
       "                        <td id=\"T_b59c9f14_8bc2_11eb_b226_6c4008b5497crow6_col0\" class=\"data row6 col0\" >The Great Railway Bazaar</td>\n",
       "                        <td id=\"T_b59c9f14_8bc2_11eb_b226_6c4008b5497crow6_col1\" class=\"data row6 col1\" >1</td>\n",
       "                        <td id=\"T_b59c9f14_8bc2_11eb_b226_6c4008b5497crow6_col2\" class=\"data row6 col2\" >30.540000</td>\n",
       "                        <td id=\"T_b59c9f14_8bc2_11eb_b226_6c4008b5497crow6_col3\" class=\"data row6 col3\" >Travel</td>\n",
       "                        <td id=\"T_b59c9f14_8bc2_11eb_b226_6c4008b5497crow6_col4\" class=\"data row6 col4\" >11</td>\n",
       "            </tr>\n",
       "            <tr>\n",
       "                        <th id=\"T_b59c9f14_8bc2_11eb_b226_6c4008b5497clevel0_row7\" class=\"row_heading level0 row7\" >7</th>\n",
       "                        <td id=\"T_b59c9f14_8bc2_11eb_b226_6c4008b5497crow7_col0\" class=\"data row7 col0\" >A Year in Provence (Provence #1)</td>\n",
       "                        <td id=\"T_b59c9f14_8bc2_11eb_b226_6c4008b5497crow7_col1\" class=\"data row7 col1\" >4</td>\n",
       "                        <td id=\"T_b59c9f14_8bc2_11eb_b226_6c4008b5497crow7_col2\" class=\"data row7 col2\" >56.880000</td>\n",
       "                        <td id=\"T_b59c9f14_8bc2_11eb_b226_6c4008b5497crow7_col3\" class=\"data row7 col3\" >Travel</td>\n",
       "                        <td id=\"T_b59c9f14_8bc2_11eb_b226_6c4008b5497crow7_col4\" class=\"data row7 col4\" >11</td>\n",
       "            </tr>\n",
       "            <tr>\n",
       "                        <th id=\"T_b59c9f14_8bc2_11eb_b226_6c4008b5497clevel0_row8\" class=\"row_heading level0 row8\" >8</th>\n",
       "                        <td id=\"T_b59c9f14_8bc2_11eb_b226_6c4008b5497crow8_col0\" class=\"data row8 col0\" >The Road to Little Dribbling: Adventures of an American in Britain (Notes From a Small Island #2)</td>\n",
       "                        <td id=\"T_b59c9f14_8bc2_11eb_b226_6c4008b5497crow8_col1\" class=\"data row8 col1\" >1</td>\n",
       "                        <td id=\"T_b59c9f14_8bc2_11eb_b226_6c4008b5497crow8_col2\" class=\"data row8 col2\" >23.210000</td>\n",
       "                        <td id=\"T_b59c9f14_8bc2_11eb_b226_6c4008b5497crow8_col3\" class=\"data row8 col3\" >Travel</td>\n",
       "                        <td id=\"T_b59c9f14_8bc2_11eb_b226_6c4008b5497crow8_col4\" class=\"data row8 col4\" >11</td>\n",
       "            </tr>\n",
       "            <tr>\n",
       "                        <th id=\"T_b59c9f14_8bc2_11eb_b226_6c4008b5497clevel0_row9\" class=\"row_heading level0 row9\" >9</th>\n",
       "                        <td id=\"T_b59c9f14_8bc2_11eb_b226_6c4008b5497crow9_col0\" class=\"data row9 col0\" >Neither Here nor There: Travels in Europe</td>\n",
       "                        <td id=\"T_b59c9f14_8bc2_11eb_b226_6c4008b5497crow9_col1\" class=\"data row9 col1\" >3</td>\n",
       "                        <td id=\"T_b59c9f14_8bc2_11eb_b226_6c4008b5497crow9_col2\" class=\"data row9 col2\" >38.950000</td>\n",
       "                        <td id=\"T_b59c9f14_8bc2_11eb_b226_6c4008b5497crow9_col3\" class=\"data row9 col3\" >Travel</td>\n",
       "                        <td id=\"T_b59c9f14_8bc2_11eb_b226_6c4008b5497crow9_col4\" class=\"data row9 col4\" >11</td>\n",
       "            </tr>\n",
       "            <tr>\n",
       "                        <th id=\"T_b59c9f14_8bc2_11eb_b226_6c4008b5497clevel0_row10\" class=\"row_heading level0 row10\" >10</th>\n",
       "                        <td id=\"T_b59c9f14_8bc2_11eb_b226_6c4008b5497crow10_col0\" class=\"data row10 col0\" >1,000 Places to See Before You Die</td>\n",
       "                        <td id=\"T_b59c9f14_8bc2_11eb_b226_6c4008b5497crow10_col1\" class=\"data row10 col1\" >5</td>\n",
       "                        <td id=\"T_b59c9f14_8bc2_11eb_b226_6c4008b5497crow10_col2\" class=\"data row10 col2\" >26.080000</td>\n",
       "                        <td id=\"T_b59c9f14_8bc2_11eb_b226_6c4008b5497crow10_col3\" class=\"data row10 col3\" >Travel</td>\n",
       "                        <td id=\"T_b59c9f14_8bc2_11eb_b226_6c4008b5497crow10_col4\" class=\"data row10 col4\" >11</td>\n",
       "            </tr>\n",
       "            <tr>\n",
       "                        <th id=\"T_b59c9f14_8bc2_11eb_b226_6c4008b5497clevel0_row11\" class=\"row_heading level0 row11\" >11</th>\n",
       "                        <td id=\"T_b59c9f14_8bc2_11eb_b226_6c4008b5497crow11_col0\" class=\"data row11 col0\" >Sharp Objects</td>\n",
       "                        <td id=\"T_b59c9f14_8bc2_11eb_b226_6c4008b5497crow11_col1\" class=\"data row11 col1\" >4</td>\n",
       "                        <td id=\"T_b59c9f14_8bc2_11eb_b226_6c4008b5497crow11_col2\" class=\"data row11 col2\" >47.820000</td>\n",
       "                        <td id=\"T_b59c9f14_8bc2_11eb_b226_6c4008b5497crow11_col3\" class=\"data row11 col3\" >Mystery</td>\n",
       "                        <td id=\"T_b59c9f14_8bc2_11eb_b226_6c4008b5497crow11_col4\" class=\"data row11 col4\" >32</td>\n",
       "            </tr>\n",
       "            <tr>\n",
       "                        <th id=\"T_b59c9f14_8bc2_11eb_b226_6c4008b5497clevel0_row12\" class=\"row_heading level0 row12\" >12</th>\n",
       "                        <td id=\"T_b59c9f14_8bc2_11eb_b226_6c4008b5497crow12_col0\" class=\"data row12 col0\" >In a Dark, Dark Wood</td>\n",
       "                        <td id=\"T_b59c9f14_8bc2_11eb_b226_6c4008b5497crow12_col1\" class=\"data row12 col1\" >1</td>\n",
       "                        <td id=\"T_b59c9f14_8bc2_11eb_b226_6c4008b5497crow12_col2\" class=\"data row12 col2\" >19.630000</td>\n",
       "                        <td id=\"T_b59c9f14_8bc2_11eb_b226_6c4008b5497crow12_col3\" class=\"data row12 col3\" >Mystery</td>\n",
       "                        <td id=\"T_b59c9f14_8bc2_11eb_b226_6c4008b5497crow12_col4\" class=\"data row12 col4\" >32</td>\n",
       "            </tr>\n",
       "            <tr>\n",
       "                        <th id=\"T_b59c9f14_8bc2_11eb_b226_6c4008b5497clevel0_row13\" class=\"row_heading level0 row13\" >13</th>\n",
       "                        <td id=\"T_b59c9f14_8bc2_11eb_b226_6c4008b5497crow13_col0\" class=\"data row13 col0\" >The Past Never Ends</td>\n",
       "                        <td id=\"T_b59c9f14_8bc2_11eb_b226_6c4008b5497crow13_col1\" class=\"data row13 col1\" >4</td>\n",
       "                        <td id=\"T_b59c9f14_8bc2_11eb_b226_6c4008b5497crow13_col2\" class=\"data row13 col2\" >56.500000</td>\n",
       "                        <td id=\"T_b59c9f14_8bc2_11eb_b226_6c4008b5497crow13_col3\" class=\"data row13 col3\" >Mystery</td>\n",
       "                        <td id=\"T_b59c9f14_8bc2_11eb_b226_6c4008b5497crow13_col4\" class=\"data row13 col4\" >32</td>\n",
       "            </tr>\n",
       "            <tr>\n",
       "                        <th id=\"T_b59c9f14_8bc2_11eb_b226_6c4008b5497clevel0_row14\" class=\"row_heading level0 row14\" >14</th>\n",
       "                        <td id=\"T_b59c9f14_8bc2_11eb_b226_6c4008b5497crow14_col0\" class=\"data row14 col0\" >A Murder in Time</td>\n",
       "                        <td id=\"T_b59c9f14_8bc2_11eb_b226_6c4008b5497crow14_col1\" class=\"data row14 col1\" >1</td>\n",
       "                        <td id=\"T_b59c9f14_8bc2_11eb_b226_6c4008b5497crow14_col2\" class=\"data row14 col2\" >16.640000</td>\n",
       "                        <td id=\"T_b59c9f14_8bc2_11eb_b226_6c4008b5497crow14_col3\" class=\"data row14 col3\" >Mystery</td>\n",
       "                        <td id=\"T_b59c9f14_8bc2_11eb_b226_6c4008b5497crow14_col4\" class=\"data row14 col4\" >32</td>\n",
       "            </tr>\n",
       "    </tbody></table>"
      ],
      "text/plain": [
       "<pandas.io.formats.style.Styler at 0x7f830a8a89d0>"
      ]
     },
     "execution_count": 216,
     "metadata": {},
     "output_type": "execute_result"
    }
   ],
   "source": [
    "color_value_1_star_styling = df[:15].style.applymap(color_1star_red_5star_blue) #first 15\n",
    "color_value_1_star_styling"
   ]
  },
  {
   "cell_type": "code",
   "execution_count": 217,
   "metadata": {},
   "outputs": [],
   "source": [
    "# filter two columns and then sort data by Stars kolumn and then by Book_Price"
   ]
  },
  {
   "cell_type": "code",
   "execution_count": 218,
   "metadata": {},
   "outputs": [],
   "source": [
    "Book_Stars_and_Book_Price=df.filter(items=['Book_Stars', 'Book_Price'])"
   ]
  },
  {
   "cell_type": "code",
   "execution_count": 219,
   "metadata": {},
   "outputs": [],
   "source": [
    "sorted_by_stars=Book_Stars_and_Book_Price.sort_values(by=['Book_Stars','Book_Price']) "
   ]
  },
  {
   "cell_type": "code",
   "execution_count": 221,
   "metadata": {},
   "outputs": [
    {
     "data": {
      "text/html": [
       "<div>\n",
       "<style scoped>\n",
       "    .dataframe tbody tr th:only-of-type {\n",
       "        vertical-align: middle;\n",
       "    }\n",
       "\n",
       "    .dataframe tbody tr th {\n",
       "        vertical-align: top;\n",
       "    }\n",
       "\n",
       "    .dataframe thead th {\n",
       "        text-align: right;\n",
       "    }\n",
       "</style>\n",
       "<table border=\"1\" class=\"dataframe\">\n",
       "  <thead>\n",
       "    <tr style=\"text-align: right;\">\n",
       "      <th></th>\n",
       "      <th>Book_Stars</th>\n",
       "      <th>Book_Price</th>\n",
       "    </tr>\n",
       "  </thead>\n",
       "  <tbody>\n",
       "    <tr>\n",
       "      <th>840</th>\n",
       "      <td>1</td>\n",
       "      <td>10.40</td>\n",
       "    </tr>\n",
       "    <tr>\n",
       "      <th>315</th>\n",
       "      <td>1</td>\n",
       "      <td>10.62</td>\n",
       "    </tr>\n",
       "    <tr>\n",
       "      <th>605</th>\n",
       "      <td>1</td>\n",
       "      <td>10.65</td>\n",
       "    </tr>\n",
       "    <tr>\n",
       "      <th>18</th>\n",
       "      <td>1</td>\n",
       "      <td>10.69</td>\n",
       "    </tr>\n",
       "    <tr>\n",
       "      <th>474</th>\n",
       "      <td>1</td>\n",
       "      <td>10.76</td>\n",
       "    </tr>\n",
       "  </tbody>\n",
       "</table>\n",
       "</div>"
      ],
      "text/plain": [
       "     Book_Stars  Book_Price\n",
       "840           1       10.40\n",
       "315           1       10.62\n",
       "605           1       10.65\n",
       "18            1       10.69\n",
       "474           1       10.76"
      ]
     },
     "execution_count": 221,
     "metadata": {},
     "output_type": "execute_result"
    }
   ],
   "source": [
    "sorted_by_stars.head(5) # first 5"
   ]
  },
  {
   "cell_type": "code",
   "execution_count": null,
   "metadata": {},
   "outputs": [],
   "source": []
  },
  {
   "cell_type": "code",
   "execution_count": null,
   "metadata": {},
   "outputs": [],
   "source": []
  },
  {
   "cell_type": "code",
   "execution_count": null,
   "metadata": {},
   "outputs": [],
   "source": []
  },
  {
   "cell_type": "code",
   "execution_count": null,
   "metadata": {},
   "outputs": [],
   "source": []
  },
  {
   "cell_type": "code",
   "execution_count": null,
   "metadata": {},
   "outputs": [],
   "source": []
  },
  {
   "cell_type": "code",
   "execution_count": null,
   "metadata": {},
   "outputs": [],
   "source": []
  },
  {
   "cell_type": "code",
   "execution_count": null,
   "metadata": {},
   "outputs": [],
   "source": []
  },
  {
   "cell_type": "code",
   "execution_count": null,
   "metadata": {},
   "outputs": [],
   "source": []
  },
  {
   "cell_type": "code",
   "execution_count": null,
   "metadata": {},
   "outputs": [],
   "source": []
  },
  {
   "cell_type": "code",
   "execution_count": null,
   "metadata": {},
   "outputs": [],
   "source": []
  },
  {
   "cell_type": "code",
   "execution_count": null,
   "metadata": {},
   "outputs": [],
   "source": []
  },
  {
   "cell_type": "code",
   "execution_count": null,
   "metadata": {},
   "outputs": [],
   "source": []
  }
 ],
 "metadata": {
  "kernelspec": {
   "display_name": "Python 3",
   "language": "python",
   "name": "python3"
  },
  "language_info": {
   "codemirror_mode": {
    "name": "ipython",
    "version": 3
   },
   "file_extension": ".py",
   "mimetype": "text/x-python",
   "name": "python",
   "nbconvert_exporter": "python",
   "pygments_lexer": "ipython3",
   "version": "3.7.6"
  }
 },
 "nbformat": 4,
 "nbformat_minor": 4
}
